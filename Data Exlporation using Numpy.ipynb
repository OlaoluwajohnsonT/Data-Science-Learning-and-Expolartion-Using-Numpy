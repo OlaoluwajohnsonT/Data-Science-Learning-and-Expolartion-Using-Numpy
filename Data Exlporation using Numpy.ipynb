{
 "cells": [
  {
   "cell_type": "code",
   "execution_count": 2,
   "metadata": {
    "collapsed": true
   },
   "outputs": [],
   "source": [
    "import numpy as np\n",
    "import pandas as pd"
   ]
  },
  {
   "cell_type": "code",
   "execution_count": 3,
   "metadata": {},
   "outputs": [
    {
     "data": {
      "text/plain": [
       "'1.19.0'"
      ]
     },
     "execution_count": 3,
     "metadata": {},
     "output_type": "execute_result"
    }
   ],
   "source": [
    "np.__version__"
   ]
  },
  {
   "cell_type": "code",
   "execution_count": 4,
   "metadata": {},
   "outputs": [
    {
     "name": "stdout",
     "output_type": "stream",
     "text": [
      "[1, '2', 3, False, 5, '6', 7, 8, 9]\n"
     ]
    }
   ],
   "source": [
    "#creating alist in python\n",
    "L  = list((1,'2',3,False,5,'6', 7,8,9))\n",
    "print(L)"
   ]
  },
  {
   "cell_type": "code",
   "execution_count": 5,
   "metadata": {},
   "outputs": [
    {
     "data": {
      "text/plain": [
       "list"
      ]
     },
     "execution_count": 5,
     "metadata": {},
     "output_type": "execute_result"
    }
   ],
   "source": [
    "type(L)"
   ]
  },
  {
   "cell_type": "code",
   "execution_count": 6,
   "metadata": {},
   "outputs": [
    {
     "data": {
      "text/plain": [
       "str"
      ]
     },
     "execution_count": 6,
     "metadata": {},
     "output_type": "execute_result"
    }
   ],
   "source": [
    "#get the data tyoe of each item at aa spceific index\n",
    "type(L[5])"
   ]
  },
  {
   "cell_type": "code",
   "execution_count": 7,
   "metadata": {},
   "outputs": [
    {
     "data": {
      "text/plain": [
       "[int, str, int, bool, int, str, int, int, int]"
      ]
     },
     "execution_count": 7,
     "metadata": {},
     "output_type": "execute_result"
    }
   ],
   "source": [
    "#get the data type of each items by looping over\n",
    "L2 = [type(i) for i in L]\n",
    "L2"
   ]
  },
  {
   "cell_type": "code",
   "execution_count": 8,
   "metadata": {},
   "outputs": [
    {
     "data": {
      "text/plain": [
       "['1', '2', '3', 'False', '5', '6', '7', '8', '9']"
      ]
     },
     "execution_count": 8,
     "metadata": {},
     "output_type": "execute_result"
    }
   ],
   "source": [
    "#coverT all items in the list tO string\n",
    "L3 = [str(c) for c in L]\n",
    "L3"
   ]
  },
  {
   "cell_type": "code",
   "execution_count": 9,
   "metadata": {},
   "outputs": [
    {
     "name": "stdout",
     "output_type": "stream",
     "text": [
      "The slowest run took 4.57 times longer than the fastest. This could mean that an intermediate result is being cached.\n",
      "1000000 loops, best of 3: 350 ns per loop\n"
     ]
    }
   ],
   "source": [
    "#to checdk the time of execution\n",
    "%timeit L3 # this is used to check the time of the loop or runing an app"
   ]
  },
  {
   "cell_type": "code",
   "execution_count": 12,
   "metadata": {},
   "outputs": [
    {
     "data": {
      "text/plain": [
       "array('i', [0, 1, 2, 3, 4, 5, 6, 7, 8, 9])"
      ]
     },
     "execution_count": 12,
     "metadata": {},
     "output_type": "execute_result"
    }
   ],
   "source": [
    "#create an array of fixed using array object\n",
    "import array\n",
    "ft = array.array('i', list(range(10)))\n",
    "#I stand for the integal whihc indicate that you can not pass any other than integal to the list. U represent string and B represent bolean\n",
    "ft"
   ]
  },
  {
   "cell_type": "code",
   "execution_count": 14,
   "metadata": {},
   "outputs": [
    {
     "data": {
      "text/plain": [
       "array('u', 'tmm')"
      ]
     },
     "execution_count": 14,
     "metadata": {},
     "output_type": "execute_result"
    }
   ],
   "source": [
    "#create an array of fixed type using array object\n",
    "st= array.array('u',  ['t', 'm','m']) #it only take string in unicode character\n",
    "st"
   ]
  },
  {
   "cell_type": "code",
   "execution_count": 10,
   "metadata": {},
   "outputs": [
    {
     "data": {
      "text/plain": [
       "array([1. , 0. , 3. , 5. , 6. , 5.6, 8. , 9. ])"
      ]
     },
     "execution_count": 10,
     "metadata": {},
     "output_type": "execute_result"
    }
   ],
   "source": [
    "#create a numpy array of type integer\n",
    "npa = np.array([1, False, 3,5,6, 5.6,8,9])\n",
    "npa"
   ]
  },
  {
   "cell_type": "code",
   "execution_count": 11,
   "metadata": {},
   "outputs": [
    {
     "data": {
      "text/plain": [
       "dtype('float64')"
      ]
     },
     "execution_count": 11,
     "metadata": {},
     "output_type": "execute_result"
    }
   ],
   "source": [
    "##check for datatype\n",
    "npa.dtype #numpy always tyring t convert an integer to a nearest covertible dataype"
   ]
  },
  {
   "cell_type": "code",
   "execution_count": 18,
   "metadata": {},
   "outputs": [
    {
     "data": {
      "text/plain": [
       "array([1, 2, 3, 6, 0, 3])"
      ]
     },
     "execution_count": 18,
     "metadata": {},
     "output_type": "execute_result"
    }
   ],
   "source": [
    "#setting a fixed dtype for  array\n",
    "np.array([1,2,3,'6',False,3.5], dtype = 'int32')"
   ]
  },
  {
   "cell_type": "code",
   "execution_count": 12,
   "metadata": {},
   "outputs": [
    {
     "data": {
      "text/plain": [
       "array([1. , 2. , 3. , 6. , 0. , 3.5])"
      ]
     },
     "execution_count": 12,
     "metadata": {},
     "output_type": "execute_result"
    }
   ],
   "source": [
    "#setting a fixed dtype for  array\n",
    "np.array([1,2,3,'6',False,3.5], dtype = 'float64')"
   ]
  },
  {
   "cell_type": "code",
   "execution_count": 13,
   "metadata": {},
   "outputs": [
    {
     "data": {
      "text/plain": [
       "array(['name', 'loaction', 'address', 'phone', '8.9'], dtype='<U8')"
      ]
     },
     "execution_count": 13,
     "metadata": {},
     "output_type": "execute_result"
    }
   ],
   "source": [
    "#create array of string setting dtype to string\n",
    "np.array(['name', 'loaction','address','phone', 8.9], dtype = '<U') # THE U LETTER MUST B IN CAP\n",
    "\n"
   ]
  },
  {
   "cell_type": "markdown",
   "metadata": {},
   "source": [
    "# CREATING ARRAY FRONM SCRATCH"
   ]
  },
  {
   "cell_type": "code",
   "execution_count": 14,
   "metadata": {},
   "outputs": [
    {
     "data": {
      "text/plain": [
       "array([0, 0, 0, 0, 0, 0, 0, 0, 0, 0])"
      ]
     },
     "execution_count": 14,
     "metadata": {},
     "output_type": "execute_result"
    }
   ],
   "source": [
    "#CREATE ARRAY OF LENGHT 10 FILLED WITH ZERO VALUES\n",
    "np.zeros(10, dtype = int)"
   ]
  },
  {
   "cell_type": "code",
   "execution_count": 16,
   "metadata": {},
   "outputs": [
    {
     "data": {
      "text/plain": [
       "array([[1., 1., 1., 1., 1.],\n",
       "       [1., 1., 1., 1., 1.],\n",
       "       [1., 1., 1., 1., 1.],\n",
       "       [1., 1., 1., 1., 1.],\n",
       "       [1., 1., 1., 1., 1.]])"
      ]
     },
     "execution_count": 16,
     "metadata": {},
     "output_type": "execute_result"
    }
   ],
   "source": [
    "#create array of 5x5 of all ones\n",
    "np.ones((5,5), dtype = float)"
   ]
  },
  {
   "cell_type": "code",
   "execution_count": 17,
   "metadata": {},
   "outputs": [
    {
     "data": {
      "text/plain": [
       "array([[8, 8, 8, 8, 8],\n",
       "       [8, 8, 8, 8, 8],\n",
       "       [8, 8, 8, 8, 8]])"
      ]
     },
     "execution_count": 17,
     "metadata": {},
     "output_type": "execute_result"
    }
   ],
   "source": [
    "#create array of 3x5 with a specific values\n",
    "np.full((3,5), 8)"
   ]
  },
  {
   "cell_type": "code",
   "execution_count": 22,
   "metadata": {},
   "outputs": [
    {
     "data": {
      "text/plain": [
       "array([ 0,  2,  4,  6,  8, 10, 12, 14, 16, 18])"
      ]
     },
     "execution_count": 22,
     "metadata": {},
     "output_type": "execute_result"
    }
   ],
   "source": [
    "#Create array of range values\n",
    "np.arange(0,20,2)"
   ]
  },
  {
   "cell_type": "code",
   "execution_count": 23,
   "metadata": {},
   "outputs": [
    {
     "data": {
      "text/plain": [
       "array([0.        , 0.04081633, 0.08163265, 0.12244898, 0.16326531,\n",
       "       0.20408163, 0.24489796, 0.28571429, 0.32653061, 0.36734694,\n",
       "       0.40816327, 0.44897959, 0.48979592, 0.53061224, 0.57142857,\n",
       "       0.6122449 , 0.65306122, 0.69387755, 0.73469388, 0.7755102 ,\n",
       "       0.81632653, 0.85714286, 0.89795918, 0.93877551, 0.97959184,\n",
       "       1.02040816, 1.06122449, 1.10204082, 1.14285714, 1.18367347,\n",
       "       1.2244898 , 1.26530612, 1.30612245, 1.34693878, 1.3877551 ,\n",
       "       1.42857143, 1.46938776, 1.51020408, 1.55102041, 1.59183673,\n",
       "       1.63265306, 1.67346939, 1.71428571, 1.75510204, 1.79591837,\n",
       "       1.83673469, 1.87755102, 1.91836735, 1.95918367, 2.        ])"
      ]
     },
     "execution_count": 23,
     "metadata": {},
     "output_type": "execute_result"
    }
   ],
   "source": [
    "#create an array of 100 times values unifromly spaced bet 0 and 1\n",
    "np.linspace(0,2, 50)"
   ]
  },
  {
   "cell_type": "code",
   "execution_count": 24,
   "metadata": {},
   "outputs": [
    {
     "data": {
      "text/plain": [
       "array([[0.63809881, 0.59973935, 0.95038483],\n",
       "       [0.36259214, 0.28367859, 0.9958583 ],\n",
       "       [0.69512804, 0.63784011, 0.89252229]])"
      ]
     },
     "execution_count": 24,
     "metadata": {},
     "output_type": "execute_result"
    }
   ],
   "source": [
    "#create aa 3x3 array of uniformly distrubuted btw 0 and 1\n",
    "np.random.random((3,3))"
   ]
  },
  {
   "cell_type": "code",
   "execution_count": 25,
   "metadata": {},
   "outputs": [
    {
     "data": {
      "text/plain": [
       "array([[-0.52370085,  0.89920694, -0.55545034],\n",
       "       [-0.89440486,  0.717942  , -1.76014132],\n",
       "       [ 0.2939273 , -0.07432651, -0.58766578]])"
      ]
     },
     "execution_count": 25,
     "metadata": {},
     "output_type": "execute_result"
    }
   ],
   "source": [
    "#create a 3x3 array of normally distributed random values with  mean o and standard deviation of 1\n",
    "np.random.normal(0,1, (3,3))"
   ]
  },
  {
   "cell_type": "code",
   "execution_count": 27,
   "metadata": {},
   "outputs": [
    {
     "data": {
      "text/plain": [
       "4"
      ]
     },
     "execution_count": 27,
     "metadata": {},
     "output_type": "execute_result"
    }
   ],
   "source": [
    "#create a random integers in the interval of 0 and 1\n",
    "np.random.randint(0,10)"
   ]
  },
  {
   "cell_type": "code",
   "execution_count": 28,
   "metadata": {},
   "outputs": [
    {
     "data": {
      "text/plain": [
       "107547"
      ]
     },
     "execution_count": 28,
     "metadata": {},
     "output_type": "execute_result"
    }
   ],
   "source": [
    "#create a random integers of 5 digits in the interval of 1 and 500000\n",
    "np.random.randint(0,500000)"
   ]
  },
  {
   "cell_type": "code",
   "execution_count": 29,
   "metadata": {},
   "outputs": [
    {
     "data": {
      "text/plain": [
       "array([2, 8, 0, 3, 0])"
      ]
     },
     "execution_count": 29,
     "metadata": {},
     "output_type": "execute_result"
    }
   ],
   "source": [
    "#create an array fivs times of random integer in the interval of 0 nd 10\n",
    "np.random.randint(0,10, 5)"
   ]
  },
  {
   "cell_type": "code",
   "execution_count": 30,
   "metadata": {},
   "outputs": [
    {
     "data": {
      "text/plain": [
       "array([[7, 8, 1],\n",
       "       [5, 9, 4],\n",
       "       [8, 8, 5]])"
      ]
     },
     "execution_count": 30,
     "metadata": {},
     "output_type": "execute_result"
    }
   ],
   "source": [
    "#create 3x3 array of random integers in the inetrval of 0 and 10\n",
    "np.random.randint(0,10,(3,3))"
   ]
  },
  {
   "cell_type": "code",
   "execution_count": 34,
   "metadata": {},
   "outputs": [
    {
     "data": {
      "text/plain": [
       "array([[1., 0., 0., 0., 0.],\n",
       "       [0., 1., 0., 0., 0.],\n",
       "       [0., 0., 1., 0., 0.],\n",
       "       [0., 0., 0., 1., 0.],\n",
       "       [0., 0., 0., 0., 1.]])"
      ]
     },
     "execution_count": 34,
     "metadata": {},
     "output_type": "execute_result"
    }
   ],
   "source": [
    "#creat an identity matrix\n",
    "np.eye(5)"
   ]
  },
  {
   "cell_type": "code",
   "execution_count": 43,
   "metadata": {},
   "outputs": [
    {
     "data": {
      "text/plain": [
       "array([1., 1., 1., 1., 1.])"
      ]
     },
     "execution_count": 43,
     "metadata": {},
     "output_type": "execute_result"
    }
   ],
   "source": [
    "#create a unitialized array of three integers\n",
    "#the values will be whatever happens to already exist at that memory location\n",
    "np.empty(5)"
   ]
  },
  {
   "cell_type": "code",
   "execution_count": 35,
   "metadata": {},
   "outputs": [
    {
     "data": {
      "text/plain": [
       "array([5, 0, 3, 3, 7, 9])"
      ]
     },
     "execution_count": 35,
     "metadata": {},
     "output_type": "execute_result"
    }
   ],
   "source": [
    "np.random.seed(0) #to make the random display same value always\n",
    "x1 = np.random.randint(10, size=6)\n",
    "x1"
   ]
  },
  {
   "cell_type": "code",
   "execution_count": 39,
   "metadata": {},
   "outputs": [
    {
     "ename": "SyntaxError",
     "evalue": "invalid syntax (<ipython-input-39-7f22e4241966>, line 2)",
     "output_type": "error",
     "traceback": [
      "\u001b[1;36m  File \u001b[1;32m\"<ipython-input-39-7f22e4241966>\"\u001b[1;36m, line \u001b[1;32m2\u001b[0m\n\u001b[1;33m    np.random.RandomState? #to ?? will show the source code for some fuction\u001b[0m\n\u001b[1;37m                         ^\u001b[0m\n\u001b[1;31mSyntaxError\u001b[0m\u001b[1;31m:\u001b[0m invalid syntax\n"
     ]
    }
   ],
   "source": [
    "#to check about a partiular function\n",
    "np.random.RandomState? #to ?? will show the source code for some fuction"
   ]
  },
  {
   "cell_type": "markdown",
   "metadata": {},
   "source": [
    "# CHECK FOR THE ATRRIBUTE OF NP ARRAY E.G SIZE,SHAPE,DIMENSION,ITEMIZE,ARRAY BYTE SIZE AND DTYPE"
   ]
  },
  {
   "cell_type": "code",
   "execution_count": 48,
   "metadata": {},
   "outputs": [
    {
     "data": {
      "text/plain": [
       "array([[3, 5, 2],\n",
       "       [4, 7, 6],\n",
       "       [8, 8, 1]])"
      ]
     },
     "execution_count": 48,
     "metadata": {},
     "output_type": "execute_result"
    }
   ],
   "source": [
    "xp = np.random.randint(10, size = (3,3)) #two dimension\n",
    "xp"
   ]
  },
  {
   "cell_type": "code",
   "execution_count": 5,
   "metadata": {},
   "outputs": [
    {
     "data": {
      "text/plain": [
       "array([[[5, 0, 0, 1, 7],\n",
       "        [5, 0, 0, 7, 0],\n",
       "        [5, 0, 4, 5, 9],\n",
       "        [0, 0, 1, 4, 1]],\n",
       "\n",
       "       [[3, 0, 8, 5, 3],\n",
       "        [4, 7, 8, 5, 0],\n",
       "        [2, 7, 8, 6, 9],\n",
       "        [0, 3, 2, 2, 6]],\n",
       "\n",
       "       [[6, 1, 3, 2, 3],\n",
       "        [8, 1, 8, 2, 8],\n",
       "        [3, 1, 4, 0, 5],\n",
       "        [4, 4, 7, 0, 4]]])"
      ]
     },
     "execution_count": 5,
     "metadata": {},
     "output_type": "execute_result"
    }
   ],
   "source": [
    "x3 = np.random.randint(10, size =(3,4,5)) #three dimension\n",
    "x3"
   ]
  },
  {
   "cell_type": "code",
   "execution_count": 55,
   "metadata": {},
   "outputs": [
    {
     "data": {
      "text/plain": [
       "(3, 2)"
      ]
     },
     "execution_count": 55,
     "metadata": {},
     "output_type": "execute_result"
    }
   ],
   "source": [
    "#to check for the dimension\n",
    "x3.ndim, xp.ndim"
   ]
  },
  {
   "cell_type": "code",
   "execution_count": 58,
   "metadata": {},
   "outputs": [
    {
     "data": {
      "text/plain": [
       "((3, 4, 5), (3, 3))"
      ]
     },
     "execution_count": 58,
     "metadata": {},
     "output_type": "execute_result"
    }
   ],
   "source": [
    "#to chekc of the shape\n",
    "x3.shape, xp.shape"
   ]
  },
  {
   "cell_type": "code",
   "execution_count": 61,
   "metadata": {},
   "outputs": [
    {
     "data": {
      "text/plain": [
       "(60, 9)"
      ]
     },
     "execution_count": 61,
     "metadata": {},
     "output_type": "execute_result"
    }
   ],
   "source": [
    "#to check for size which talk about the lenght\n",
    "x3.size, xp.size"
   ]
  },
  {
   "cell_type": "code",
   "execution_count": 40,
   "metadata": {},
   "outputs": [
    {
     "ename": "NameError",
     "evalue": "name 'x3' is not defined",
     "output_type": "error",
     "traceback": [
      "\u001b[1;31m---------------------------------------------------------------------------\u001b[0m",
      "\u001b[1;31mNameError\u001b[0m                                 Traceback (most recent call last)",
      "\u001b[1;32m<ipython-input-40-5ded4e3b5268>\u001b[0m in \u001b[0;36m<module>\u001b[1;34m()\u001b[0m\n\u001b[0;32m      1\u001b[0m \u001b[1;31m#to check for the datatype of the array\u001b[0m\u001b[1;33m\u001b[0m\u001b[1;33m\u001b[0m\u001b[0m\n\u001b[1;32m----> 2\u001b[1;33m \u001b[0mx3\u001b[0m\u001b[1;33m.\u001b[0m\u001b[0mdtype\u001b[0m\u001b[1;33m\u001b[0m\u001b[0m\n\u001b[0m\u001b[0;32m      3\u001b[0m \u001b[0mtype\u001b[0m\u001b[1;33m(\u001b[0m\u001b[0mx3\u001b[0m\u001b[1;33m)\u001b[0m\u001b[1;33m\u001b[0m\u001b[0m\n",
      "\u001b[1;31mNameError\u001b[0m: name 'x3' is not defined"
     ]
    }
   ],
   "source": [
    "#to check for the datatype of the array\n",
    "x3.dtype\n"
   ]
  },
  {
   "cell_type": "code",
   "execution_count": 66,
   "metadata": {},
   "outputs": [
    {
     "data": {
      "text/plain": [
       "4"
      ]
     },
     "execution_count": 66,
     "metadata": {},
     "output_type": "execute_result"
    }
   ],
   "source": [
    "x3.itemsize #this talk about the bit of each items in the array"
   ]
  },
  {
   "cell_type": "code",
   "execution_count": 69,
   "metadata": {},
   "outputs": [
    {
     "data": {
      "text/plain": [
       "240"
      ]
     },
     "execution_count": 69,
     "metadata": {},
     "output_type": "execute_result"
    }
   ],
   "source": [
    "x3.nbytes # this will add all of the whole bits in X3 together. this indicate the bit of whole array"
   ]
  },
  {
   "cell_type": "code",
   "execution_count": 70,
   "metadata": {},
   "outputs": [
    {
     "data": {
      "text/plain": [
       "array(['sa', 'we', 'yo', '6'], dtype='<U2')"
      ]
     },
     "execution_count": 70,
     "metadata": {},
     "output_type": "execute_result"
    }
   ],
   "source": [
    "#create an array of string\n",
    "x4 = np.array(['sa','we','yo','6'])\n",
    "x4"
   ]
  },
  {
   "cell_type": "code",
   "execution_count": 71,
   "metadata": {},
   "outputs": [
    {
     "data": {
      "text/plain": [
       "8"
      ]
     },
     "execution_count": 71,
     "metadata": {},
     "output_type": "execute_result"
    }
   ],
   "source": [
    "#to check the itmesize\n",
    "x4.itemsize"
   ]
  },
  {
   "cell_type": "code",
   "execution_count": 73,
   "metadata": {},
   "outputs": [
    {
     "data": {
      "text/plain": [
       "32"
      ]
     },
     "execution_count": 73,
     "metadata": {},
     "output_type": "execute_result"
    }
   ],
   "source": [
    "x4.nbytes #bit total all together"
   ]
  },
  {
   "cell_type": "markdown",
   "metadata": {},
   "source": [
    "# INDEXING AN NP ARRAY\n"
   ]
  },
  {
   "cell_type": "code",
   "execution_count": 41,
   "metadata": {},
   "outputs": [
    {
     "data": {
      "text/plain": [
       "array([5, 0, 3, 3, 7, 9])"
      ]
     },
     "execution_count": 41,
     "metadata": {},
     "output_type": "execute_result"
    }
   ],
   "source": [
    "x1"
   ]
  },
  {
   "cell_type": "code",
   "execution_count": 42,
   "metadata": {},
   "outputs": [
    {
     "data": {
      "text/plain": [
       "(6,)"
      ]
     },
     "execution_count": 42,
     "metadata": {},
     "output_type": "execute_result"
    }
   ],
   "source": [
    "x1.shape"
   ]
  },
  {
   "cell_type": "code",
   "execution_count": 45,
   "metadata": {},
   "outputs": [
    {
     "data": {
      "text/plain": [
       "7"
      ]
     },
     "execution_count": 45,
     "metadata": {},
     "output_type": "execute_result"
    }
   ],
   "source": [
    "x1[-2]\n"
   ]
  },
  {
   "cell_type": "code",
   "execution_count": 46,
   "metadata": {},
   "outputs": [
    {
     "data": {
      "text/plain": [
       "3"
      ]
     },
     "execution_count": 46,
     "metadata": {},
     "output_type": "execute_result"
    }
   ],
   "source": [
    "x1[-3]"
   ]
  },
  {
   "cell_type": "code",
   "execution_count": 49,
   "metadata": {},
   "outputs": [
    {
     "data": {
      "text/plain": [
       "array([[3, 5, 2],\n",
       "       [4, 7, 6],\n",
       "       [8, 8, 1]])"
      ]
     },
     "execution_count": 49,
     "metadata": {},
     "output_type": "execute_result"
    }
   ],
   "source": [
    "xp"
   ]
  },
  {
   "cell_type": "code",
   "execution_count": 82,
   "metadata": {},
   "outputs": [
    {
     "data": {
      "text/plain": [
       "0"
      ]
     },
     "execution_count": 82,
     "metadata": {},
     "output_type": "execute_result"
    }
   ],
   "source": [
    "#to get the value at index row =1 and column =2\n",
    "xp[0,2]"
   ]
  },
  {
   "cell_type": "code",
   "execution_count": 83,
   "metadata": {
    "collapsed": true
   },
   "outputs": [],
   "source": [
    "#to change a vlue of an array with index\n",
    "x1[0] = 10"
   ]
  },
  {
   "cell_type": "code",
   "execution_count": 84,
   "metadata": {},
   "outputs": [
    {
     "data": {
      "text/plain": [
       "array([10,  0,  3,  3,  7,  9])"
      ]
     },
     "execution_count": 84,
     "metadata": {},
     "output_type": "execute_result"
    }
   ],
   "source": [
    "x1"
   ]
  },
  {
   "cell_type": "code",
   "execution_count": 87,
   "metadata": {},
   "outputs": [
    {
     "data": {
      "text/plain": [
       "array([[ 4, 11,  0],\n",
       "       [ 3,  5,  0],\n",
       "       [ 2,  3,  8]])"
      ]
     },
     "execution_count": 87,
     "metadata": {},
     "output_type": "execute_result"
    }
   ],
   "source": [
    "#CHAGING THE VALUE THATB EXIST AT INDEX ROW= 0, COLUMN = -1\n",
    "xp[0,-2] = 11\n",
    "xp"
   ]
  },
  {
   "cell_type": "markdown",
   "metadata": {},
   "source": [
    "# SLICING AN NP ARRAY"
   ]
  },
  {
   "cell_type": "code",
   "execution_count": 50,
   "metadata": {},
   "outputs": [
    {
     "data": {
      "text/plain": [
       "array([0, 1, 2, 3, 4, 5, 6, 7, 8, 9])"
      ]
     },
     "execution_count": 50,
     "metadata": {},
     "output_type": "execute_result"
    }
   ],
   "source": [
    "#CREATE AN NP ARRAY FRO 0 TO 10\n",
    "x = np.arange(10)\n",
    "x"
   ]
  },
  {
   "cell_type": "code",
   "execution_count": 51,
   "metadata": {},
   "outputs": [
    {
     "data": {
      "text/plain": [
       "array([1, 3, 5, 7, 9])"
      ]
     },
     "execution_count": 51,
     "metadata": {},
     "output_type": "execute_result"
    }
   ],
   "source": [
    "#slicing x array from 1 to end at he step of two\n",
    "x[1::2]"
   ]
  },
  {
   "cell_type": "code",
   "execution_count": 53,
   "metadata": {},
   "outputs": [
    {
     "data": {
      "text/plain": [
       "array([4, 5, 6, 7, 8, 9])"
      ]
     },
     "execution_count": 53,
     "metadata": {},
     "output_type": "execute_result"
    }
   ],
   "source": [
    "#to slice from index 3 to the end \n",
    "x[4:]"
   ]
  },
  {
   "cell_type": "code",
   "execution_count": 54,
   "metadata": {},
   "outputs": [
    {
     "data": {
      "text/plain": [
       "array([3, 4, 5, 6])"
      ]
     },
     "execution_count": 54,
     "metadata": {},
     "output_type": "execute_result"
    }
   ],
   "source": [
    "#slice from the inde three to the 7\n",
    "x[3:7]"
   ]
  },
  {
   "cell_type": "code",
   "execution_count": 92,
   "metadata": {},
   "outputs": [
    {
     "data": {
      "text/plain": [
       "array([0, 2, 4, 6, 8])"
      ]
     },
     "execution_count": 92,
     "metadata": {},
     "output_type": "execute_result"
    }
   ],
   "source": [
    "#slicing x array from 0 to end at he step of two\n",
    "x[::2]"
   ]
  },
  {
   "cell_type": "code",
   "execution_count": 95,
   "metadata": {},
   "outputs": [
    {
     "data": {
      "text/plain": [
       "array([9, 8, 7, 6, 5, 4, 3, 2, 1, 0])"
      ]
     },
     "execution_count": 95,
     "metadata": {},
     "output_type": "execute_result"
    }
   ],
   "source": [
    "#to reverse the order of an array\n",
    "x[::-1]"
   ]
  },
  {
   "cell_type": "code",
   "execution_count": 55,
   "metadata": {},
   "outputs": [
    {
     "data": {
      "text/plain": [
       "array([[3, 5, 2],\n",
       "       [4, 7, 6],\n",
       "       [8, 8, 1]])"
      ]
     },
     "execution_count": 55,
     "metadata": {},
     "output_type": "execute_result"
    }
   ],
   "source": [
    "#slcing in multidimension\n",
    "xp"
   ]
  },
  {
   "cell_type": "code",
   "execution_count": 56,
   "metadata": {},
   "outputs": [
    {
     "data": {
      "text/plain": [
       "array([[8, 8, 1],\n",
       "       [4, 7, 6],\n",
       "       [3, 5, 2]])"
      ]
     },
     "execution_count": 56,
     "metadata": {},
     "output_type": "execute_result"
    }
   ],
   "source": [
    "#to reverse the order of xp array along column\n",
    "xp[::-1]"
   ]
  },
  {
   "cell_type": "code",
   "execution_count": 98,
   "metadata": {},
   "outputs": [
    {
     "data": {
      "text/plain": [
       "array([[ 0, 11,  4],\n",
       "       [ 0,  5,  3],\n",
       "       [ 8,  3,  2]])"
      ]
     },
     "execution_count": 98,
     "metadata": {},
     "output_type": "execute_result"
    }
   ],
   "source": [
    "#to reverse the order of xp array along row\n",
    "xp[::,::-1]"
   ]
  },
  {
   "cell_type": "code",
   "execution_count": 99,
   "metadata": {},
   "outputs": [
    {
     "data": {
      "text/plain": [
       "array([[ 8,  3,  2],\n",
       "       [ 0,  5,  3],\n",
       "       [ 0, 11,  4]])"
      ]
     },
     "execution_count": 99,
     "metadata": {},
     "output_type": "execute_result"
    }
   ],
   "source": [
    "#to reverse the order of xp array along both column and row\n",
    "xp[::-1,::-1]"
   ]
  },
  {
   "cell_type": "code",
   "execution_count": 58,
   "metadata": {},
   "outputs": [
    {
     "data": {
      "text/plain": [
       "array([[3]])"
      ]
     },
     "execution_count": 58,
     "metadata": {},
     "output_type": "execute_result"
    }
   ],
   "source": [
    "xp[:1,:1] #to select a specific row in mutidimnensional aray"
   ]
  },
  {
   "cell_type": "code",
   "execution_count": 101,
   "metadata": {},
   "outputs": [
    {
     "data": {
      "text/plain": [
       "array([[4, 0],\n",
       "       [3, 0]])"
      ]
     },
     "execution_count": 101,
     "metadata": {},
     "output_type": "execute_result"
    }
   ],
   "source": [
    "xp[:2,::2]"
   ]
  },
  {
   "cell_type": "code",
   "execution_count": 59,
   "metadata": {},
   "outputs": [
    {
     "data": {
      "text/plain": [
       "array([[3, 5, 2],\n",
       "       [4, 7, 6],\n",
       "       [8, 8, 1]])"
      ]
     },
     "execution_count": 59,
     "metadata": {},
     "output_type": "execute_result"
    }
   ],
   "source": [
    "xp"
   ]
  },
  {
   "cell_type": "code",
   "execution_count": 60,
   "metadata": {},
   "outputs": [
    {
     "data": {
      "text/plain": [
       "array([3, 4, 8])"
      ]
     },
     "execution_count": 60,
     "metadata": {},
     "output_type": "execute_result"
    }
   ],
   "source": [
    "xp[:,0] #this one will return all rows but column at index 0"
   ]
  },
  {
   "cell_type": "code",
   "execution_count": 103,
   "metadata": {},
   "outputs": [
    {
     "data": {
      "text/plain": [
       "array([ 4, 11,  0])"
      ]
     },
     "execution_count": 103,
     "metadata": {},
     "output_type": "execute_result"
    }
   ],
   "source": [
    "xp[0,:] #this one will return all column but row at index 0"
   ]
  },
  {
   "cell_type": "code",
   "execution_count": 105,
   "metadata": {},
   "outputs": [
    {
     "data": {
      "text/plain": [
       "array([[ 4, 11,  0],\n",
       "       [ 3,  5,  0]])"
      ]
     },
     "execution_count": 105,
     "metadata": {},
     "output_type": "execute_result"
    }
   ],
   "source": [
    "#creating  a viewf x2 which is also known as subarray\n",
    "vw = xp[:2,::1]\n",
    "vw"
   ]
  },
  {
   "cell_type": "code",
   "execution_count": 107,
   "metadata": {
    "collapsed": true
   },
   "outputs": [],
   "source": [
    "#change an item of the view will change the main array\n",
    "vw[1,1] = 5"
   ]
  },
  {
   "cell_type": "code",
   "execution_count": 108,
   "metadata": {},
   "outputs": [
    {
     "data": {
      "text/plain": [
       "array([[ 4, 11,  0],\n",
       "       [ 3,  5,  0],\n",
       "       [ 2,  3,  8]])"
      ]
     },
     "execution_count": 108,
     "metadata": {},
     "output_type": "execute_result"
    }
   ],
   "source": [
    "xp"
   ]
  },
  {
   "cell_type": "code",
   "execution_count": 110,
   "metadata": {},
   "outputs": [
    {
     "data": {
      "text/plain": [
       "array([0, 0, 8])"
      ]
     },
     "execution_count": 110,
     "metadata": {},
     "output_type": "execute_result"
    }
   ],
   "source": [
    "#how to create a view that will not affect the amain array\n",
    "view = xp[::, 2].copy()\n",
    "view"
   ]
  },
  {
   "cell_type": "code",
   "execution_count": 111,
   "metadata": {
    "collapsed": true
   },
   "outputs": [],
   "source": [
    "#changing the value\n",
    "view[0] = 1"
   ]
  },
  {
   "cell_type": "code",
   "execution_count": 112,
   "metadata": {},
   "outputs": [
    {
     "data": {
      "text/plain": [
       "array([1, 0, 8])"
      ]
     },
     "execution_count": 112,
     "metadata": {},
     "output_type": "execute_result"
    }
   ],
   "source": [
    "view\n"
   ]
  },
  {
   "cell_type": "code",
   "execution_count": 113,
   "metadata": {},
   "outputs": [
    {
     "data": {
      "text/plain": [
       "array([[ 4, 11,  0],\n",
       "       [ 3,  5,  0],\n",
       "       [ 2,  3,  8]])"
      ]
     },
     "execution_count": 113,
     "metadata": {},
     "output_type": "execute_result"
    }
   ],
   "source": [
    "#let check if the original array change\n",
    "xp"
   ]
  },
  {
   "cell_type": "markdown",
   "metadata": {
    "collapsed": true
   },
   "source": [
    "# Reshapping the Array\n"
   ]
  },
  {
   "cell_type": "code",
   "execution_count": 61,
   "metadata": {},
   "outputs": [
    {
     "data": {
      "text/plain": [
       "array([ 1,  2,  3,  4,  5,  6,  7,  8,  9, 10, 11, 12])"
      ]
     },
     "execution_count": 61,
     "metadata": {},
     "output_type": "execute_result"
    }
   ],
   "source": [
    "#generate array an array of legnth 12\n",
    "ar = np.arange(1,13)\n",
    "ar"
   ]
  },
  {
   "cell_type": "code",
   "execution_count": 10,
   "metadata": {},
   "outputs": [
    {
     "data": {
      "text/plain": [
       "(12,)"
      ]
     },
     "execution_count": 10,
     "metadata": {},
     "output_type": "execute_result"
    }
   ],
   "source": [
    "ar.shape"
   ]
  },
  {
   "cell_type": "code",
   "execution_count": 63,
   "metadata": {
    "collapsed": true
   },
   "outputs": [],
   "source": [
    "#shape the one dimensional array to 3,4\n",
    "ar = ar.reshape(3,4)"
   ]
  },
  {
   "cell_type": "code",
   "execution_count": 14,
   "metadata": {},
   "outputs": [
    {
     "data": {
      "text/plain": [
       "array([[ 1,  2,  3,  4],\n",
       "       [ 5,  6,  7,  8],\n",
       "       [ 9, 10, 11, 12]])"
      ]
     },
     "execution_count": 14,
     "metadata": {},
     "output_type": "execute_result"
    }
   ],
   "source": [
    "#;let us now see the new shape\n",
    "ar"
   ]
  },
  {
   "cell_type": "code",
   "execution_count": 64,
   "metadata": {},
   "outputs": [
    {
     "data": {
      "text/plain": [
       "array([[ 1,  2,  3,  4,  5],\n",
       "       [ 6,  7,  8,  9, 10],\n",
       "       [11, 12, 13, 14,  5],\n",
       "       [16, 17, 18, 19, 20]])"
      ]
     },
     "execution_count": 64,
     "metadata": {},
     "output_type": "execute_result"
    }
   ],
   "source": [
    "#to create new multidimensional array\n",
    "mv = np.array([[1,2,3,4,5],[6,7,8,9,10], [11,12,13,14,5], [16,17,18,19,20]])\n",
    "mv"
   ]
  },
  {
   "cell_type": "code",
   "execution_count": 66,
   "metadata": {},
   "outputs": [
    {
     "data": {
      "text/plain": [
       "(4, 5)"
      ]
     },
     "execution_count": 66,
     "metadata": {},
     "output_type": "execute_result"
    }
   ],
   "source": [
    "#let us check the shape\n",
    "mv.shape"
   ]
  },
  {
   "cell_type": "code",
   "execution_count": 68,
   "metadata": {},
   "outputs": [
    {
     "data": {
      "text/plain": [
       "array([1, 2, 3, 4, 5])"
      ]
     },
     "execution_count": 68,
     "metadata": {},
     "output_type": "execute_result"
    }
   ],
   "source": [
    "#using the newaxis to reshape as another method\n",
    "ax = np.array([1,2,3,4,5])\n",
    "ax"
   ]
  },
  {
   "cell_type": "code",
   "execution_count": 69,
   "metadata": {},
   "outputs": [
    {
     "data": {
      "text/plain": [
       "array([[1],\n",
       "       [2],\n",
       "       [3],\n",
       "       [4],\n",
       "       [5]])"
      ]
     },
     "execution_count": 69,
     "metadata": {},
     "output_type": "execute_result"
    }
   ],
   "source": [
    "#reshape to vertical\n",
    "ax.reshape(5,1)"
   ]
  },
  {
   "cell_type": "code",
   "execution_count": 70,
   "metadata": {},
   "outputs": [
    {
     "data": {
      "text/plain": [
       "array([[1, 2, 3, 4, 5]])"
      ]
     },
     "execution_count": 70,
     "metadata": {},
     "output_type": "execute_result"
    }
   ],
   "source": [
    "#reshape to horizontal\n",
    "ax.reshape(1,5)"
   ]
  },
  {
   "cell_type": "code",
   "execution_count": 79,
   "metadata": {},
   "outputs": [
    {
     "data": {
      "text/plain": [
       "array([1, 2, 3, 4, 5])"
      ]
     },
     "execution_count": 79,
     "metadata": {},
     "output_type": "execute_result"
    }
   ],
   "source": [
    "ax"
   ]
  },
  {
   "cell_type": "code",
   "execution_count": 81,
   "metadata": {},
   "outputs": [
    {
     "data": {
      "text/plain": [
       "(1, 5)"
      ]
     },
     "execution_count": 81,
     "metadata": {},
     "output_type": "execute_result"
    }
   ],
   "source": [
    "#using the new axis\n",
    "ab=ax[np.newaxis, :] # for row\n",
    "ab.shape"
   ]
  },
  {
   "cell_type": "code",
   "execution_count": 78,
   "metadata": {},
   "outputs": [
    {
     "data": {
      "text/plain": [
       "(5,)"
      ]
     },
     "execution_count": 78,
     "metadata": {},
     "output_type": "execute_result"
    }
   ],
   "source": [
    "ax.shape"
   ]
  },
  {
   "cell_type": "code",
   "execution_count": 87,
   "metadata": {},
   "outputs": [
    {
     "data": {
      "text/plain": [
       "(5, 1)"
      ]
     },
     "execution_count": 87,
     "metadata": {},
     "output_type": "execute_result"
    }
   ],
   "source": [
    "ac = ax[: ,np.newaxis]# for column\n",
    "ac.shape"
   ]
  },
  {
   "cell_type": "code",
   "execution_count": 88,
   "metadata": {},
   "outputs": [
    {
     "data": {
      "text/plain": [
       "array([[ 1,  2,  3,  4,  5],\n",
       "       [ 6,  7,  8,  9, 10],\n",
       "       [11, 12, 13, 14,  5],\n",
       "       [16, 17, 18, 19, 20]])"
      ]
     },
     "execution_count": 88,
     "metadata": {},
     "output_type": "execute_result"
    }
   ],
   "source": [
    "#to create a new shape in multiduimensional array\n",
    "mv"
   ]
  },
  {
   "cell_type": "code",
   "execution_count": 34,
   "metadata": {},
   "outputs": [
    {
     "data": {
      "text/plain": [
       "(4, 5)"
      ]
     },
     "execution_count": 34,
     "metadata": {},
     "output_type": "execute_result"
    }
   ],
   "source": [
    "#let us check the shape\n",
    "mv.shape"
   ]
  },
  {
   "cell_type": "code",
   "execution_count": 35,
   "metadata": {},
   "outputs": [
    {
     "data": {
      "text/plain": [
       "array([[[ 1,  2,  3,  4,  5],\n",
       "        [ 6,  7,  8,  9, 10],\n",
       "        [11, 12, 13, 14,  5],\n",
       "        [16, 17, 18, 19, 20]]])"
      ]
     },
     "execution_count": 35,
     "metadata": {},
     "output_type": "execute_result"
    }
   ],
   "source": [
    "#RESHAPE USNG NP.NEWAXIS ALONG THE ROWS\n",
    "mvrow = mv[np.newaxis,:]\n",
    "mvrow"
   ]
  },
  {
   "cell_type": "code",
   "execution_count": 40,
   "metadata": {},
   "outputs": [
    {
     "data": {
      "text/plain": [
       "(1, 4, 5)"
      ]
     },
     "execution_count": 40,
     "metadata": {},
     "output_type": "execute_result"
    }
   ],
   "source": [
    "#let us now check the shape\n",
    "mvrow.shape"
   ]
  },
  {
   "cell_type": "code",
   "execution_count": 89,
   "metadata": {},
   "outputs": [
    {
     "data": {
      "text/plain": [
       "array([[[ 1,  2,  3,  4,  5]],\n",
       "\n",
       "       [[ 6,  7,  8,  9, 10]],\n",
       "\n",
       "       [[11, 12, 13, 14,  5]],\n",
       "\n",
       "       [[16, 17, 18, 19, 20]]])"
      ]
     },
     "execution_count": 89,
     "metadata": {},
     "output_type": "execute_result"
    }
   ],
   "source": [
    "#RESHAPE USNG NP.NEWAXIS ALONG THE column\n",
    "mvcol = mv[:,np.newaxis]\n",
    "mvcol"
   ]
  },
  {
   "cell_type": "code",
   "execution_count": 38,
   "metadata": {},
   "outputs": [
    {
     "data": {
      "text/plain": [
       "(4, 1, 5)"
      ]
     },
     "execution_count": 38,
     "metadata": {},
     "output_type": "execute_result"
    }
   ],
   "source": [
    "mvcol.shape"
   ]
  },
  {
   "cell_type": "code",
   "execution_count": 41,
   "metadata": {},
   "outputs": [
    {
     "name": "stdout",
     "output_type": "stream",
     "text": [
      "shape: (4, 1, 5)\n",
      "ndim: 3\n"
     ]
    }
   ],
   "source": [
    "#let us check for the shapa and dimension\n",
    "print('shape:', mvcol.shape)\n",
    "print('ndim:', mvcol.ndim)"
   ]
  },
  {
   "cell_type": "markdown",
   "metadata": {},
   "source": [
    "# ARRAY CONCATENATION"
   ]
  },
  {
   "cell_type": "code",
   "execution_count": 90,
   "metadata": {},
   "outputs": [
    {
     "data": {
      "text/plain": [
       "array([ 1,  2,  3,  4,  5,  6,  7,  8,  9, 10, 11, 12, 13, 14, 15, 17, 18])"
      ]
     },
     "execution_count": 90,
     "metadata": {},
     "output_type": "execute_result"
    }
   ],
   "source": [
    "#CONCATENATING TWO OR MORE ARRAYS\n",
    "x = np.array([1,2,3,4,5,6])\n",
    "y = np.array([7,8,9,10,11,12])\n",
    "z= np.array([13,14,15,17,18])\n",
    "np.concatenate([x,y,z]) #its the way you arange the array hat it will come out"
   ]
  },
  {
   "cell_type": "code",
   "execution_count": 91,
   "metadata": {
    "collapsed": true
   },
   "outputs": [],
   "source": [
    "#concatenate multidimensional array\n",
    "twodim1 = np.array([[1,2,3,4,5], [6,7,8,9,10]])\n",
    "twodim2 = np.array([[11,12,131,14,15], [16,17,18,19,20]])\n",
    "onedim1 = np.array([21,22,23,24,25])\n",
    "onedim2 = np.array([[21],[22]])"
   ]
  },
  {
   "cell_type": "code",
   "execution_count": 45,
   "metadata": {},
   "outputs": [
    {
     "data": {
      "text/plain": [
       "array([[ 1,  2,  3,  4,  5],\n",
       "       [ 6,  7,  8,  9, 10]])"
      ]
     },
     "execution_count": 45,
     "metadata": {},
     "output_type": "execute_result"
    }
   ],
   "source": [
    "twodim1"
   ]
  },
  {
   "cell_type": "code",
   "execution_count": 46,
   "metadata": {},
   "outputs": [
    {
     "data": {
      "text/plain": [
       "array([[ 11,  12, 131,  14,  15],\n",
       "       [ 16,  17,  18,  19,  20]])"
      ]
     },
     "execution_count": 46,
     "metadata": {},
     "output_type": "execute_result"
    }
   ],
   "source": [
    "twodim2"
   ]
  },
  {
   "cell_type": "code",
   "execution_count": 47,
   "metadata": {},
   "outputs": [
    {
     "data": {
      "text/plain": [
       "array([[  1,   2,   3,   4,   5],\n",
       "       [  6,   7,   8,   9,  10],\n",
       "       [ 11,  12, 131,  14,  15],\n",
       "       [ 16,  17,  18,  19,  20]])"
      ]
     },
     "execution_count": 47,
     "metadata": {},
     "output_type": "execute_result"
    }
   ],
   "source": [
    "# concatenating along the row by soecify that axis =0\n",
    "np.concatenate([twodim1, twodim2], axis = 0)"
   ]
  },
  {
   "cell_type": "code",
   "execution_count": 48,
   "metadata": {},
   "outputs": [
    {
     "data": {
      "text/plain": [
       "array([[  1,   2,   3,   4,   5,  11,  12, 131,  14,  15],\n",
       "       [  6,   7,   8,   9,  10,  16,  17,  18,  19,  20]])"
      ]
     },
     "execution_count": 48,
     "metadata": {},
     "output_type": "execute_result"
    }
   ],
   "source": [
    "# concatenating along the column by soecify that axis =1\n",
    "np.concatenate([twodim1, twodim2], axis = 1)"
   ]
  },
  {
   "cell_type": "code",
   "execution_count": 57,
   "metadata": {},
   "outputs": [
    {
     "data": {
      "text/plain": [
       "array([[21, 22, 23, 24, 25],\n",
       "       [ 1,  2,  3,  4,  5],\n",
       "       [ 6,  7,  8,  9, 10]])"
      ]
     },
     "execution_count": 57,
     "metadata": {},
     "output_type": "execute_result"
    }
   ],
   "source": [
    "#using vstack to concatenate arrays of different dimensions\n",
    "b = np.vstack([onedim1,twodim1])\n",
    "b #column must be equal for vstack"
   ]
  },
  {
   "cell_type": "code",
   "execution_count": 92,
   "metadata": {},
   "outputs": [
    {
     "data": {
      "text/plain": [
       "array([[ 11,  12, 131,  14,  15,  21],\n",
       "       [ 16,  17,  18,  19,  20,  22]])"
      ]
     },
     "execution_count": 92,
     "metadata": {},
     "output_type": "execute_result"
    }
   ],
   "source": [
    "#using hstack to concatenate multidimensionak array along rows.\n",
    "v = np.hstack([twodim2,onedim2])\n",
    "v #rows must be equal for hstack"
   ]
  },
  {
   "cell_type": "code",
   "execution_count": 60,
   "metadata": {},
   "outputs": [
    {
     "name": "stdout",
     "output_type": "stream",
     "text": [
      "[[[  1  11]\n",
      "  [  2  12]\n",
      "  [  3 131]\n",
      "  [  4  14]\n",
      "  [  5  15]]\n",
      "\n",
      " [[  6  16]\n",
      "  [  7  17]\n",
      "  [  8  18]\n",
      "  [  9  19]\n",
      "  [ 10  20]]]\n"
     ]
    }
   ],
   "source": [
    "# dstakc will concantenate row by row\n",
    "yx = np.dstack([twodim1, twodim2])\n",
    "print(yx)"
   ]
  },
  {
   "cell_type": "code",
   "execution_count": 61,
   "metadata": {},
   "outputs": [
    {
     "data": {
      "text/plain": [
       "(2, 5, 2)"
      ]
     },
     "execution_count": 61,
     "metadata": {},
     "output_type": "execute_result"
    }
   ],
   "source": [
    "yx.shape"
   ]
  },
  {
   "cell_type": "markdown",
   "metadata": {},
   "source": [
    "# SPLITTING AN ARRAY"
   ]
  },
  {
   "cell_type": "code",
   "execution_count": 110,
   "metadata": {},
   "outputs": [
    {
     "name": "stdout",
     "output_type": "stream",
     "text": [
      "[1 2 3 4] [5] [ 6  7  8  9 10 11 12 13 14 15 16]\n"
     ]
    }
   ],
   "source": [
    "#SPLITING OF ARRAY BY SLICING THE FIRST FOUR VALUES AND FIVE\n",
    "xy =np.array([1,2,3,4,5,6,7,8,9,10,11,12,13,14,15,16])\n",
    "x1,x2,x3 = np.split(xy,(4,5))\n",
    "print(x1,x2,x3)"
   ]
  },
  {
   "cell_type": "code",
   "execution_count": 109,
   "metadata": {},
   "outputs": [
    {
     "name": "stdout",
     "output_type": "stream",
     "text": [
      "[1 2 3 4 5] [6 7] [ 8  9 10 11 12 13 14 15 16]\n"
     ]
    }
   ],
   "source": [
    "#to split it to two\n",
    "xy =np.array([1,2,3,4,5,6,7,8,9,10,11,12,13,14,15,16])\n",
    "x1,x2, x3 = np.split(xy,(5,7,))\n",
    "print(x1,x2, x3)"
   ]
  },
  {
   "cell_type": "code",
   "execution_count": 111,
   "metadata": {},
   "outputs": [
    {
     "name": "stdout",
     "output_type": "stream",
     "text": [
      "[1 2 3 4] [5 6 7] [ 8  9 10 11 12 13 14 15 16]\n"
     ]
    }
   ],
   "source": [
    "#splitting of arrays using the first  four values and next first three\n",
    "xy =np.array([1,2,3,4,5,6,7,8,9,10,11,12,13,14,15,16])\n",
    "x1,x2, x3 = np.split(xy,(4,7))\n",
    "print(x1,x2,x3)"
   ]
  },
  {
   "cell_type": "code",
   "execution_count": 112,
   "metadata": {
    "collapsed": true
   },
   "outputs": [],
   "source": [
    "#spitting of multidimensional array\n",
    "xz = np.arange(16).reshape(4,4)"
   ]
  },
  {
   "cell_type": "code",
   "execution_count": 113,
   "metadata": {},
   "outputs": [
    {
     "data": {
      "text/plain": [
       "array([[ 0,  1,  2,  3],\n",
       "       [ 4,  5,  6,  7],\n",
       "       [ 8,  9, 10, 11],\n",
       "       [12, 13, 14, 15]])"
      ]
     },
     "execution_count": 113,
     "metadata": {},
     "output_type": "execute_result"
    }
   ],
   "source": [
    "xz"
   ]
  },
  {
   "cell_type": "code",
   "execution_count": 117,
   "metadata": {},
   "outputs": [
    {
     "name": "stdout",
     "output_type": "stream",
     "text": [
      "the firstsplit\n",
      "  [[ 0  1]\n",
      " [ 4  5]\n",
      " [ 8  9]\n",
      " [12 13]]\n",
      "the secondsplit\n",
      "  [[ 2  3]\n",
      " [ 6  7]\n",
      " [10 11]\n",
      " [14 15]]\n"
     ]
    }
   ],
   "source": [
    "#split starting from the second column/split from columns\n",
    "first ,second = np.hsplit(xz,[2])\n",
    "print(\"the firstsplit\\n \", first)\n",
    "print(\"the secondsplit\\n \", second)"
   ]
  },
  {
   "cell_type": "code",
   "execution_count": 115,
   "metadata": {},
   "outputs": [
    {
     "name": "stdout",
     "output_type": "stream",
     "text": [
      "the firstsplit\n",
      "  [[0 1 2 3]\n",
      " [4 5 6 7]]\n",
      "the secondsplit\n",
      "  [[ 8  9 10 11]\n",
      " [12 13 14 15]]\n"
     ]
    }
   ],
   "source": [
    "#np.vsplit split along rows starting from the second rows \n",
    "first ,second = np.vsplit(xz,[2])\n",
    "print(\"the firstsplit\\n \", first)\n",
    "print(\"the secondsplit\\n \", second)"
   ]
  },
  {
   "cell_type": "code",
   "execution_count": 118,
   "metadata": {},
   "outputs": [
    {
     "name": "stdout",
     "output_type": "stream",
     "text": [
      "the firstsplit\n",
      "  [[0 1 2 3]\n",
      " [4 5 6 7]]\n",
      "the secondsplit\n",
      "  [[ 8  9 10 11]]\n",
      "the thirdsplit\n",
      "  [[12 13 14 15]]\n"
     ]
    }
   ],
   "source": [
    "#np.vsplit to split in to three\n",
    "first ,second, third = np.vsplit(xz,[2,3])\n",
    "print(\"the firstsplit\\n \", first)\n",
    "print(\"the secondsplit\\n \", second)\n",
    "print(\"the thirdsplit\\n \", third)"
   ]
  },
  {
   "cell_type": "markdown",
   "metadata": {},
   "source": [
    "# USING THE UNIVERSAL FUNCTION(UFUNCS)"
   ]
  },
  {
   "cell_type": "code",
   "execution_count": 119,
   "metadata": {
    "collapsed": true
   },
   "outputs": [],
   "source": [
    "xm = np.array([1,2,3,4,5,6,7,8,9,10,11,12,13,14,15,16])\n",
    "#computing using python loop and np to see the time difference"
   ]
  },
  {
   "cell_type": "code",
   "execution_count": 120,
   "metadata": {},
   "outputs": [
    {
     "name": "stdout",
     "output_type": "stream",
     "text": [
      "The slowest run took 652.06 times longer than the fastest. This could mean that an intermediate result is being cached.\n",
      "10000 loops, best of 3: 38.3 µs per loop\n"
     ]
    }
   ],
   "source": [
    "#using the python loop\n",
    "%timeit[i +i for i in xm]"
   ]
  },
  {
   "cell_type": "code",
   "execution_count": 80,
   "metadata": {},
   "outputs": [
    {
     "name": "stdout",
     "output_type": "stream",
     "text": [
      "The slowest run took 22.17 times longer than the fastest. This could mean that an intermediate result is being cached.\n",
      "100000 loops, best of 3: 3.52 µs per loop\n"
     ]
    }
   ],
   "source": [
    "#using np computatioon\n",
    "%timeit addition = xm+xm"
   ]
  },
  {
   "cell_type": "code",
   "execution_count": 81,
   "metadata": {},
   "outputs": [
    {
     "data": {
      "text/plain": [
       "array([11, 12, 13, 14, 15, 16, 17, 18, 19, 20, 21, 22, 23, 24, 25, 26])"
      ]
     },
     "execution_count": 81,
     "metadata": {},
     "output_type": "execute_result"
    }
   ],
   "source": [
    "#addtion operation\n",
    "xm+10"
   ]
  },
  {
   "cell_type": "code",
   "execution_count": 82,
   "metadata": {},
   "outputs": [
    {
     "data": {
      "text/plain": [
       "array([ 10,  20,  30,  40,  50,  60,  70,  80,  90, 100, 110, 120, 130,\n",
       "       140, 150, 160])"
      ]
     },
     "execution_count": 82,
     "metadata": {},
     "output_type": "execute_result"
    }
   ],
   "source": [
    "#multiplication\n",
    "xm*10"
   ]
  },
  {
   "cell_type": "code",
   "execution_count": 121,
   "metadata": {},
   "outputs": [
    {
     "data": {
      "text/plain": [
       "array([ -2.25,  -4.  ,  -6.25,  -9.  , -12.25, -16.  , -20.25, -25.  ,\n",
       "       -30.25, -36.  , -42.25, -49.  , -56.25, -64.  , -72.25, -81.  ])"
      ]
     },
     "execution_count": 121,
     "metadata": {},
     "output_type": "execute_result"
    }
   ],
   "source": [
    "#combining  some of thhe operation in this cope\n",
    "-(0.5*xm+1)**2"
   ]
  },
  {
   "cell_type": "markdown",
   "metadata": {},
   "source": [
    "# using np inbuit function \n",
    "np.add() ==+\n",
    "np.subtract()== -\n",
    "np.negative == -2\n",
    "np.multiply == *\n",
    "np.floor_divide() = //\n",
    "np.divide() = /\n",
    "np.mod() = %"
   ]
  },
  {
   "cell_type": "code",
   "execution_count": 122,
   "metadata": {},
   "outputs": [
    {
     "data": {
      "text/plain": [
       "array([ 6,  7,  8,  9, 10, 11, 12, 13, 14, 15, 16, 17, 18, 19, 20, 21])"
      ]
     },
     "execution_count": 122,
     "metadata": {},
     "output_type": "execute_result"
    }
   ],
   "source": [
    "#add fives to eaach items\n",
    "np.add(xm,5)"
   ]
  },
  {
   "cell_type": "code",
   "execution_count": 123,
   "metadata": {},
   "outputs": [
    {
     "data": {
      "text/plain": [
       "array([2, 1, 1, 2, 3])"
      ]
     },
     "execution_count": 123,
     "metadata": {},
     "output_type": "execute_result"
    }
   ],
   "source": [
    "#to use absolute vakue whihc return real number\n",
    "ab = np.array([-2,-1,1,2,3])\n",
    "abs(ab) #for python function for absolute\n",
    "np.absolute(ab) #np equipvalent for absolute "
   ]
  },
  {
   "cell_type": "code",
   "execution_count": 124,
   "metadata": {},
   "outputs": [
    {
     "data": {
      "text/plain": [
       "array([5.        , 5.        , 3.60555128, 1.        ])"
      ]
     },
     "execution_count": 124,
     "metadata": {},
     "output_type": "execute_result"
    }
   ],
   "source": [
    "#absolute can also work for complex data in whhich the absolute value retuns the magnitude\n",
    "comp = np.array([3-4j, 4-3j,2+3j,0+1j])\n",
    "np.abs(comp)"
   ]
  },
  {
   "cell_type": "code",
   "execution_count": 88,
   "metadata": {},
   "outputs": [
    {
     "data": {
      "text/plain": [
       "array([0.        , 0.78539816, 1.57079633, 2.35619449, 3.14159265])"
      ]
     },
     "execution_count": 88,
     "metadata": {},
     "output_type": "execute_result"
    }
   ],
   "source": [
    "#using trigonometric functiond (np.sin,np.cos,np.tan,np.arcsin etc for others fiction)\n",
    "tri = np.linspace(0,np.pi,5)\n",
    "tri"
   ]
  },
  {
   "cell_type": "code",
   "execution_count": 89,
   "metadata": {},
   "outputs": [
    {
     "data": {
      "text/plain": [
       "array([0.00000000e+00, 7.07106781e-01, 1.00000000e+00, 7.07106781e-01,\n",
       "       1.22464680e-16])"
      ]
     },
     "execution_count": 89,
     "metadata": {},
     "output_type": "execute_result"
    }
   ],
   "source": [
    "#for sin func\n",
    "np.sin(tri)"
   ]
  },
  {
   "cell_type": "markdown",
   "metadata": {},
   "source": [
    "# for arcsin\n",
    "acr = [-1,0,1]\n",
    "np.arcsin(acr)"
   ]
  },
  {
   "cell_type": "code",
   "execution_count": 92,
   "metadata": {},
   "outputs": [
    {
     "data": {
      "text/plain": [
       "array([ 2.71828183,  7.3890561 , 20.08553692])"
      ]
     },
     "execution_count": 92,
     "metadata": {},
     "output_type": "execute_result"
    }
   ],
   "source": [
    "#workibg witjh exponent and logarithm\n",
    "expo = [1,2,3]\n",
    "np.exp(expo)"
   ]
  },
  {
   "cell_type": "code",
   "execution_count": 94,
   "metadata": {},
   "outputs": [
    {
     "data": {
      "text/plain": [
       "array([ 1,  8, 27], dtype=int32)"
      ]
     },
     "execution_count": 94,
     "metadata": {},
     "output_type": "execute_result"
    }
   ],
   "source": [
    "#to get the result of power of a num\n",
    "np.power(expo, 3)"
   ]
  },
  {
   "cell_type": "code",
   "execution_count": 95,
   "metadata": {},
   "outputs": [
    {
     "data": {
      "text/plain": [
       "array([0.        , 0.30103   , 0.47712125])"
      ]
     },
     "execution_count": 95,
     "metadata": {},
     "output_type": "execute_result"
    }
   ],
   "source": [
    "#for logarithm\n",
    "np.log10(expo)"
   ]
  },
  {
   "cell_type": "code",
   "execution_count": 96,
   "metadata": {},
   "outputs": [
    {
     "data": {
      "text/plain": [
       "array([0.        , 0.69314718, 1.09861229])"
      ]
     },
     "execution_count": 96,
     "metadata": {},
     "output_type": "execute_result"
    }
   ],
   "source": [
    "np.log(expo)"
   ]
  },
  {
   "cell_type": "markdown",
   "metadata": {},
   "source": [
    "# CONPUTING AGGREGATION ON DATA"
   ]
  },
  {
   "cell_type": "code",
   "execution_count": 126,
   "metadata": {},
   "outputs": [
    {
     "data": {
      "text/plain": [
       "array([1, 2, 3, 4, 5])"
      ]
     },
     "execution_count": 126,
     "metadata": {},
     "output_type": "execute_result"
    }
   ],
   "source": [
    "xv = np.arange(1,6)\n",
    "xv"
   ]
  },
  {
   "cell_type": "code",
   "execution_count": 127,
   "metadata": {},
   "outputs": [
    {
     "data": {
      "text/plain": [
       "5"
      ]
     },
     "execution_count": 127,
     "metadata": {},
     "output_type": "execute_result"
    }
   ],
   "source": [
    "# to check for maximum value\n",
    "xv.max()"
   ]
  },
  {
   "cell_type": "code",
   "execution_count": 137,
   "metadata": {},
   "outputs": [
    {
     "data": {
      "text/plain": [
       "15"
      ]
     },
     "execution_count": 137,
     "metadata": {},
     "output_type": "execute_result"
    }
   ],
   "source": [
    "#to add all of the value together in the array\n",
    "np.add.reduce(xv)"
   ]
  },
  {
   "cell_type": "code",
   "execution_count": 130,
   "metadata": {},
   "outputs": [
    {
     "data": {
      "text/plain": [
       "120"
      ]
     },
     "execution_count": 130,
     "metadata": {},
     "output_type": "execute_result"
    }
   ],
   "source": [
    "#to multiplying all of the value together in the array\n",
    "np.multiply.reduce(xv)"
   ]
  },
  {
   "cell_type": "code",
   "execution_count": 131,
   "metadata": {},
   "outputs": [
    {
     "data": {
      "text/plain": [
       "array([ 1,  3,  6, 10, 15], dtype=int32)"
      ]
     },
     "execution_count": 131,
     "metadata": {},
     "output_type": "execute_result"
    }
   ],
   "source": [
    "#returns the array of addition of intermidiate results of the computation\n",
    "np.add.accumulate(xv)"
   ]
  },
  {
   "cell_type": "code",
   "execution_count": 108,
   "metadata": {},
   "outputs": [
    {
     "data": {
      "text/plain": [
       "array([  1,   2,   6,  24, 120], dtype=int32)"
      ]
     },
     "execution_count": 108,
     "metadata": {},
     "output_type": "execute_result"
    }
   ],
   "source": [
    "#returns the array of multiplication of intermidiate results of the computation\n",
    "np.multiply.accumulate(xv)"
   ]
  },
  {
   "cell_type": "code",
   "execution_count": 132,
   "metadata": {},
   "outputs": [
    {
     "data": {
      "text/plain": [
       "15"
      ]
     },
     "execution_count": 132,
     "metadata": {},
     "output_type": "execute_result"
    }
   ],
   "source": [
    "#other inbuilt functions are\n",
    "np.sum(xv) #===np.add.reduce\n",
    "# np.prod() ==np.multiplying.reduce\n",
    "# np.consum() == np.add.accumulate\n",
    "# np.cumprod ==npmultiply.accumulate"
   ]
  },
  {
   "cell_type": "code",
   "execution_count": 138,
   "metadata": {},
   "outputs": [
    {
     "data": {
      "text/plain": [
       "array([ 1,  2,  3,  4,  5,  6,  7,  8,  9, 10, 11, 12])"
      ]
     },
     "execution_count": 138,
     "metadata": {},
     "output_type": "execute_result"
    }
   ],
   "source": [
    "#using the 'outer' to compute all elements of pair of two different arrays\n",
    "cd = np.arange(1,13)\n",
    "cd"
   ]
  },
  {
   "cell_type": "code",
   "execution_count": 139,
   "metadata": {},
   "outputs": [
    {
     "data": {
      "text/plain": [
       "array([[  1,   2,   3,   4,   5,   6,   7,   8,   9,  10,  11,  12],\n",
       "       [  2,   4,   6,   8,  10,  12,  14,  16,  18,  20,  22,  24],\n",
       "       [  3,   6,   9,  12,  15,  18,  21,  24,  27,  30,  33,  36],\n",
       "       [  4,   8,  12,  16,  20,  24,  28,  32,  36,  40,  44,  48],\n",
       "       [  5,  10,  15,  20,  25,  30,  35,  40,  45,  50,  55,  60],\n",
       "       [  6,  12,  18,  24,  30,  36,  42,  48,  54,  60,  66,  72],\n",
       "       [  7,  14,  21,  28,  35,  42,  49,  56,  63,  70,  77,  84],\n",
       "       [  8,  16,  24,  32,  40,  48,  56,  64,  72,  80,  88,  96],\n",
       "       [  9,  18,  27,  36,  45,  54,  63,  72,  81,  90,  99, 108],\n",
       "       [ 10,  20,  30,  40,  50,  60,  70,  80,  90, 100, 110, 120],\n",
       "       [ 11,  22,  33,  44,  55,  66,  77,  88,  99, 110, 121, 132],\n",
       "       [ 12,  24,  36,  48,  60,  72,  84,  96, 108, 120, 132, 144]])"
      ]
     },
     "execution_count": 139,
     "metadata": {},
     "output_type": "execute_result"
    }
   ],
   "source": [
    "np.multiply.outer(cd,cd)"
   ]
  },
  {
   "cell_type": "markdown",
   "metadata": {},
   "source": [
    "# AGGREGATION ON MULTIDIMENSIONAL ARRAY"
   ]
  },
  {
   "cell_type": "code",
   "execution_count": 140,
   "metadata": {},
   "outputs": [
    {
     "data": {
      "text/plain": [
       "array([[0.79172504, 0.52889492, 0.56804456, 0.92559664],\n",
       "       [0.07103606, 0.0871293 , 0.0202184 , 0.83261985],\n",
       "       [0.77815675, 0.87001215, 0.97861834, 0.79915856]])"
      ]
     },
     "execution_count": 140,
     "metadata": {},
     "output_type": "execute_result"
    }
   ],
   "source": [
    "# generate a 3x4 array\n",
    "m = np.random.random((3,4))\n",
    "m"
   ]
  },
  {
   "cell_type": "code",
   "execution_count": 141,
   "metadata": {},
   "outputs": [
    {
     "data": {
      "text/plain": [
       "7.251210563756011"
      ]
     },
     "execution_count": 141,
     "metadata": {},
     "output_type": "execute_result"
    }
   ],
   "source": [
    "#returns summation of total element of the array\n",
    "m.sum()"
   ]
  },
  {
   "cell_type": "code",
   "execution_count": 142,
   "metadata": {},
   "outputs": [
    {
     "data": {
      "text/plain": [
       "array([1.64091785, 1.48603637, 1.5668813 , 2.55737505])"
      ]
     },
     "execution_count": 142,
     "metadata": {},
     "output_type": "execute_result"
    }
   ],
   "source": [
    "#return summation alonmg the column\n",
    "m.sum(axis = 0)"
   ]
  },
  {
   "cell_type": "code",
   "execution_count": 143,
   "metadata": {},
   "outputs": [
    {
     "data": {
      "text/plain": [
       "array([2.81426116, 1.0110036 , 3.42594581])"
      ]
     },
     "execution_count": 143,
     "metadata": {},
     "output_type": "execute_result"
    }
   ],
   "source": [
    "#return summation along the row\n",
    "m.sum(axis = 1)"
   ]
  },
  {
   "cell_type": "code",
   "execution_count": 145,
   "metadata": {},
   "outputs": [
    {
     "data": {
      "text/plain": [
       "0.02021839744032572"
      ]
     },
     "execution_count": 145,
     "metadata": {},
     "output_type": "execute_result"
    }
   ],
   "source": [
    "#return the min of the array\n",
    "m.min()"
   ]
  },
  {
   "cell_type": "code",
   "execution_count": 119,
   "metadata": {},
   "outputs": [
    {
     "data": {
      "text/plain": [
       "0.9571551589530464"
      ]
     },
     "execution_count": 119,
     "metadata": {},
     "output_type": "execute_result"
    }
   ],
   "source": [
    "#for maximum\n",
    "m.max()"
   ]
  },
  {
   "cell_type": "code",
   "execution_count": 120,
   "metadata": {},
   "outputs": [
    {
     "data": {
      "text/plain": [
       "(0.21884568471395213, 0.21884568471395213)"
      ]
     },
     "execution_count": 120,
     "metadata": {},
     "output_type": "execute_result"
    }
   ],
   "source": [
    "#to return the standard deviation of the array\n",
    "np.std(m), m.std()"
   ]
  },
  {
   "cell_type": "code",
   "execution_count": 123,
   "metadata": {},
   "outputs": [
    {
     "data": {
      "text/plain": [
       "(array([0.36824154, 0.58201979, 0.14035078, 0.67887953]),\n",
       " array([0.72063265, 0.95715516, 0.53737323, 0.87008726]))"
      ]
     },
     "execution_count": 123,
     "metadata": {},
     "output_type": "execute_result"
    }
   ],
   "source": [
    "#checking the minimum vaklue along the row of the array\n",
    "m.min(axis =0), m.max(axis =0)\n"
   ]
  },
  {
   "cell_type": "code",
   "execution_count": 124,
   "metadata": {},
   "outputs": [
    {
     "data": {
      "text/plain": [
       "(array([0.14035078, 0.47360805, 0.53737323]),\n",
       " array([0.95715516, 0.80091075, 0.75861562]))"
      ]
     },
     "execution_count": 124,
     "metadata": {},
     "output_type": "execute_result"
    }
   ],
   "source": [
    "#checking the minimum and maximum value along the column of the array\n",
    "m.min(axis =1), m.max(axis =1)"
   ]
  },
  {
   "cell_type": "code",
   "execution_count": 125,
   "metadata": {},
   "outputs": [
    {
     "data": {
      "text/plain": [
       "(array([1.56248224, 2.3400857 , 1.19820149, 2.30758241]),\n",
       " array([1.56248224, 2.3400857 , 1.19820149, 2.30758241]))"
      ]
     },
     "execution_count": 125,
     "metadata": {},
     "output_type": "execute_result"
    }
   ],
   "source": [
    "#checking the sum value along the row of the array\n",
    "m.sum(axis =0), m.sum(axis =0)"
   ]
  },
  {
   "cell_type": "code",
   "execution_count": 126,
   "metadata": {},
   "outputs": [
    {
     "data": {
      "text/plain": [
       "(array([2.33583474, 2.47387581, 2.5986413 ]),\n",
       " array([2.33583474, 2.47387581, 2.5986413 ]))"
      ]
     },
     "execution_count": 126,
     "metadata": {},
     "output_type": "execute_result"
    }
   ],
   "source": [
    "#checking the sum value along the column  of the array\n",
    "m.sum(axis =1), m.sum(axis =1)"
   ]
  },
  {
   "cell_type": "code",
   "execution_count": 147,
   "metadata": {},
   "outputs": [
    {
     "data": {
      "text/plain": [
       "0.6042675469796676"
      ]
     },
     "execution_count": 147,
     "metadata": {},
     "output_type": "execute_result"
    }
   ],
   "source": [
    "# to calculate the mean\n",
    "np.mean(m)"
   ]
  },
  {
   "cell_type": "code",
   "execution_count": 148,
   "metadata": {},
   "outputs": [
    {
     "data": {
      "text/plain": [
       "0.7849408945162575"
      ]
     },
     "execution_count": 148,
     "metadata": {},
     "output_type": "execute_result"
    }
   ],
   "source": [
    "np.median(m)"
   ]
  },
  {
   "cell_type": "code",
   "execution_count": 146,
   "metadata": {},
   "outputs": [
    {
     "data": {
      "text/plain": [
       "0.6042675469796676"
      ]
     },
     "execution_count": 146,
     "metadata": {},
     "output_type": "execute_result"
    }
   ],
   "source": [
    "m.mean()"
   ]
  },
  {
   "cell_type": "code",
   "execution_count": 149,
   "metadata": {},
   "outputs": [
    {
     "name": "stdout",
     "output_type": "stream",
     "text": [
      "25 percentile value: 0.41845351474006354\n",
      "50 percentile value: 0.7849408945162575\n",
      "75 percentile value: 0.8419679212226583\n",
      "25 percentile value: 0.41845351474006354\n"
     ]
    }
   ],
   "source": [
    "#to calc the percentile for each 25th,70th and other\n",
    "print(\"25 percentile value:\", np.percentile(m, 25))\n",
    "print(\"50 percentile value:\", np.percentile(m, 50))\n",
    "print(\"75 percentile value:\", np.percentile(m, 75))\n",
    "print(\"25 percentile value:\", np.percentile(m, 25))"
   ]
  },
  {
   "cell_type": "code",
   "execution_count": 150,
   "metadata": {},
   "outputs": [
    {
     "data": {
      "text/plain": [
       "(0, 4)"
      ]
     },
     "execution_count": 150,
     "metadata": {},
     "output_type": "execute_result"
    }
   ],
   "source": [
    "#to return the index of the minimum and maximum value\n",
    "np.argmin(xv), np.argmax(xv)\n"
   ]
  },
  {
   "cell_type": "markdown",
   "metadata": {},
   "source": [
    "# AGGREGATE OVER MISING VALUES"
   ]
  },
  {
   "cell_type": "code",
   "execution_count": 152,
   "metadata": {},
   "outputs": [
    {
     "data": {
      "text/plain": [
       "array([ 1.,  2.,  3., nan,  5.,  6., nan,  7.,  8.])"
      ]
     },
     "execution_count": 152,
     "metadata": {},
     "output_type": "execute_result"
    }
   ],
   "source": [
    "ms = np.array([1,2,3,np.nan,5,6,np.nan,7,8])\n",
    "ms"
   ]
  },
  {
   "cell_type": "code",
   "execution_count": 154,
   "metadata": {},
   "outputs": [
    {
     "name": "stdout",
     "output_type": "stream",
     "text": [
      "sum 32.0\n",
      "product 10080.0\n",
      "mean 4.571428571428571\n",
      "variance 5.959183673469389\n",
      "standard dev: 2.4411439272335804\n"
     ]
    }
   ],
   "source": [
    "print(\"sum\", np.nansum(ms))\n",
    "print(\"product\", np.nanprod(ms))\n",
    "print(\"mean\", np.nanmean(ms))\n",
    "print(\"variance\", np.nanvar(ms))\n",
    "print(\"standard dev:\", np.nanstd(ms))\n",
    "#the NAN words will make it ignore the nan or overwrite it to give us the answer"
   ]
  },
  {
   "cell_type": "code",
   "execution_count": 155,
   "metadata": {},
   "outputs": [
    {
     "data": {
      "text/plain": [
       "nan"
      ]
     },
     "execution_count": 155,
     "metadata": {},
     "output_type": "execute_result"
    }
   ],
   "source": [
    "np.sum(ms) #this van overwrite the nan value"
   ]
  },
  {
   "cell_type": "code",
   "execution_count": null,
   "metadata": {
    "collapsed": true
   },
   "outputs": [],
   "source": []
  },
  {
   "cell_type": "code",
   "execution_count": null,
   "metadata": {
    "collapsed": true
   },
   "outputs": [],
   "source": []
  },
  {
   "cell_type": "markdown",
   "metadata": {},
   "source": [
    "# real life example using the average hight of us sample"
   ]
  },
  {
   "cell_type": "code",
   "execution_count": 159,
   "metadata": {},
   "outputs": [
    {
     "data": {
      "text/html": [
       "<div>\n",
       "<style scoped>\n",
       "    .dataframe tbody tr th:only-of-type {\n",
       "        vertical-align: middle;\n",
       "    }\n",
       "\n",
       "    .dataframe tbody tr th {\n",
       "        vertical-align: top;\n",
       "    }\n",
       "\n",
       "    .dataframe thead th {\n",
       "        text-align: right;\n",
       "    }\n",
       "</style>\n",
       "<table border=\"1\" class=\"dataframe\">\n",
       "  <thead>\n",
       "    <tr style=\"text-align: right;\">\n",
       "      <th></th>\n",
       "      <th>order</th>\n",
       "      <th>name</th>\n",
       "      <th>height(cm)</th>\n",
       "    </tr>\n",
       "  </thead>\n",
       "  <tbody>\n",
       "    <tr>\n",
       "      <th>0</th>\n",
       "      <td>1</td>\n",
       "      <td>George Washington</td>\n",
       "      <td>189</td>\n",
       "    </tr>\n",
       "    <tr>\n",
       "      <th>1</th>\n",
       "      <td>2</td>\n",
       "      <td>John Adams</td>\n",
       "      <td>170</td>\n",
       "    </tr>\n",
       "    <tr>\n",
       "      <th>2</th>\n",
       "      <td>3</td>\n",
       "      <td>Thomas Jefferson</td>\n",
       "      <td>189</td>\n",
       "    </tr>\n",
       "    <tr>\n",
       "      <th>3</th>\n",
       "      <td>4</td>\n",
       "      <td>James Madison</td>\n",
       "      <td>163</td>\n",
       "    </tr>\n",
       "    <tr>\n",
       "      <th>4</th>\n",
       "      <td>5</td>\n",
       "      <td>James Monroe</td>\n",
       "      <td>183</td>\n",
       "    </tr>\n",
       "  </tbody>\n",
       "</table>\n",
       "</div>"
      ],
      "text/plain": [
       "   order               name  height(cm)\n",
       "0      1  George Washington         189\n",
       "1      2         John Adams         170\n",
       "2      3   Thomas Jefferson         189\n",
       "3      4      James Madison         163\n",
       "4      5       James Monroe         183"
      ]
     },
     "execution_count": 159,
     "metadata": {},
     "output_type": "execute_result"
    }
   ],
   "source": [
    "import pandas as pd\n",
    "president_height = pd.read_csv('C:\\datasets\\president_height.csv')\n",
    "president_height.head()"
   ]
  },
  {
   "cell_type": "code",
   "execution_count": 160,
   "metadata": {},
   "outputs": [
    {
     "name": "stdout",
     "output_type": "stream",
     "text": [
      "pres_height\n",
      " [189 170 189 163 183 171 185 168 173 183 173 173 175 178 183 193 178 173\n",
      " 174 183 183 168 170 178 182 180 183 178 182 188 175 179 183 193 182 183\n",
      " 177 185 188 188 182 185]\n",
      "pres_height\n",
      " ['George Washington' 'John Adams' 'Thomas Jefferson' 'James Madison'\n",
      " 'James Monroe' 'John Quincy Adams' 'Andrew Jackson' 'Martin Van Buren'\n",
      " 'William Henry Harrison' 'John Tyler' 'James K. Polk' 'Zachary Taylor'\n",
      " 'Millard Fillmore' 'Franklin Pierce' 'James Buchanan' 'Abraham Lincoln'\n",
      " 'Andrew Johnson' 'Ulysses S. Grant' 'Rutherford B. Hayes'\n",
      " 'James A. Garfield' 'Chester A. Arthur' 'Benjamin Harrison'\n",
      " 'William McKinley' 'Theodore Roosevelt' 'William Howard Taft'\n",
      " 'Woodrow Wilson' 'Warren G. Harding' 'Calvin Coolidge' 'Herbert Hoover'\n",
      " 'Franklin D. Roosevelt' 'Harry S. Truman' 'Dwight D. Eisenhower'\n",
      " 'John F. Kennedy' 'Lyndon B. Johnson' 'Richard Nixon' 'Gerald Ford'\n",
      " 'Jimmy Carter' 'Ronald Reagan' 'George H. W. Bush' 'Bill Clinton'\n",
      " 'George W. Bush' 'Barack Obama']\n"
     ]
    }
   ],
   "source": [
    "# ti work with np on this pd, we need to extract what we needed\n",
    "pres_height = np.array(president_height['height(cm)'])\n",
    "pres_name = np.array(president_height['name'])\n",
    "print(\"pres_height\\n\" , pres_height)\n",
    "print(\"pres_height\\n\" , pres_name)"
   ]
  },
  {
   "cell_type": "code",
   "execution_count": 161,
   "metadata": {},
   "outputs": [
    {
     "data": {
      "text/plain": [
       "array([189, 170, 189, 163, 183, 171, 185, 168, 173, 183, 173, 173, 175,\n",
       "       178, 183, 193, 178, 173, 174, 183, 183, 168, 170, 178, 182, 180,\n",
       "       183, 178, 182, 188, 175, 179, 183, 193, 182, 183, 177, 185, 188,\n",
       "       188, 182, 185], dtype=int64)"
      ]
     },
     "execution_count": 161,
     "metadata": {},
     "output_type": "execute_result"
    }
   ],
   "source": [
    "pres_height"
   ]
  },
  {
   "cell_type": "code",
   "execution_count": 162,
   "metadata": {},
   "outputs": [
    {
     "data": {
      "text/plain": [
       "['George',\n",
       " 'John',\n",
       " 'Thomas',\n",
       " 'James',\n",
       " 'James',\n",
       " 'John',\n",
       " 'Andrew',\n",
       " 'Martin',\n",
       " 'William',\n",
       " 'John',\n",
       " 'James',\n",
       " 'Zachary',\n",
       " 'Millard',\n",
       " 'Franklin',\n",
       " 'James',\n",
       " 'Abraham',\n",
       " 'Andrew',\n",
       " 'Ulysses',\n",
       " 'Rutherford',\n",
       " 'James',\n",
       " 'Chester',\n",
       " 'Benjamin',\n",
       " 'William',\n",
       " 'Theodore',\n",
       " 'William',\n",
       " 'Woodrow',\n",
       " 'Warren',\n",
       " 'Calvin',\n",
       " 'Herbert',\n",
       " 'Franklin',\n",
       " 'Harry',\n",
       " 'Dwight',\n",
       " 'John',\n",
       " 'Lyndon',\n",
       " 'Richard',\n",
       " 'Gerald',\n",
       " 'Jimmy',\n",
       " 'Ronald',\n",
       " 'George',\n",
       " 'Bill',\n",
       " 'George',\n",
       " 'Barack']"
      ]
     },
     "execution_count": 162,
     "metadata": {},
     "output_type": "execute_result"
    }
   ],
   "source": [
    "#to reudce the name of each president to first name\n",
    "pname = []\n",
    "for name in pres_name:\n",
    "    name = name.split(\" \")\n",
    "    pname.append(name[0])\n",
    "pname"
   ]
  },
  {
   "cell_type": "code",
   "execution_count": 141,
   "metadata": {},
   "outputs": [
    {
     "name": "stdout",
     "output_type": "stream",
     "text": [
      "mean height: 179.73809523809524\n",
      "mean max height: 193\n",
      "mean min height: 163\n",
      "standard deviation height: 193\n"
     ]
    }
   ],
   "source": [
    "#computing the aggregqte of the president height\n",
    "print('mean height:', pres_height.mean())\n",
    "print('mean max height:', pres_height.max())\n",
    "print('mean min height:', pres_height.min())\n",
    "print('standard deviation height:', pres_height.max())"
   ]
  },
  {
   "cell_type": "code",
   "execution_count": 143,
   "metadata": {},
   "outputs": [
    {
     "data": {
      "text/plain": [
       "'Abraham Lincoln'"
      ]
     },
     "execution_count": 143,
     "metadata": {},
     "output_type": "execute_result"
    }
   ],
   "source": [
    ",#return president with maximum height\n",
    "pres_name[pres_height.argmax()]"
   ]
  },
  {
   "cell_type": "code",
   "execution_count": 144,
   "metadata": {},
   "outputs": [
    {
     "data": {
      "text/plain": [
       "'James Madison'"
      ]
     },
     "execution_count": 144,
     "metadata": {},
     "output_type": "execute_result"
    }
   ],
   "source": [
    "#return president with minimum height\n",
    "pres_name[pres_height.argmin()]"
   ]
  },
  {
   "cell_type": "code",
   "execution_count": 145,
   "metadata": {},
   "outputs": [
    {
     "data": {
      "image/png": "[encoded data removed]",
      "text/plain": [
       "<matplotlib.figure.Figure at 0x1868f1240b8>"
      ]
     },
     "metadata": {},
     "output_type": "display_data"
    }
   ],
   "source": [
    "import matplotlib.pyplot as plt\n",
    "fig = plt.figure(figsize=(10,5))\n",
    "plt.plot(np.arange(42), pres_height, 'r-')\n",
    "plt.xlabel('US president')\n",
    "plt.ylabel('height')\n",
    "plt.show()"
   ]
  },
  {
   "cell_type": "code",
   "execution_count": 151,
   "metadata": {},
   "outputs": [
    {
     "data": {
      "image/png": "[encoded data removed]",
      "text/plain": [
       "<matplotlib.figure.Figure at 0x1868fae9d30>"
      ]
     },
     "metadata": {},
     "output_type": "display_data"
    },
    {
     "data": {
      "image/png": "[encoded data removed]",
      "text/plain": [
       "<matplotlib.figure.Figure at 0x1868f702978>"
      ]
     },
     "metadata": {},
     "output_type": "display_data"
    }
   ],
   "source": [
    "plt.style.use('seaborn')\n",
    "plt.hist(pres_height)\n",
    "plt.title('Graph of the US president')\n",
    "plt.xlabel('US president')\n",
    "plt.ylabel('Height')\n",
    "plt.show()"
   ]
  },
  {
   "cell_type": "code",
   "execution_count": 1,
   "metadata": {
    "collapsed": true
   },
   "outputs": [],
   "source": [
    "#miss broadcasting class"
   ]
  },
  {
   "cell_type": "markdown",
   "metadata": {},
   "source": [
    "# OPERATOS AND UFUNC EQUIVALENT"
   ]
  },
  {
   "cell_type": "code",
   "execution_count": 4,
   "metadata": {
    "collapsed": true
   },
   "outputs": [],
   "source": [
    "#SOME INBUILT OPERATOR ARE \n",
    "#== = np.equal\n",
    "# != = np.not_equal\n",
    "# < = np.less\n",
    "# > = np.greater\n",
    "# <= = np.less_equal\n",
    "#>= = np.greater_equal"
   ]
  },
  {
   "cell_type": "code",
   "execution_count": 7,
   "metadata": {},
   "outputs": [
    {
     "data": {
      "text/plain": [
       "array([[5, 0, 3, 3],\n",
       "       [7, 9, 3, 5],\n",
       "       [2, 4, 7, 6]])"
      ]
     },
     "execution_count": 7,
     "metadata": {},
     "output_type": "execute_result"
    }
   ],
   "source": [
    "#example of this inult operator\n",
    "rng = np.random.RandomState(0)\n",
    "x = rng.randint(10, size = (3,4))\n",
    "x"
   ]
  },
  {
   "cell_type": "code",
   "execution_count": 8,
   "metadata": {},
   "outputs": [
    {
     "data": {
      "text/plain": [
       "array([[ True,  True,  True,  True],\n",
       "       [False, False,  True,  True],\n",
       "       [ True,  True, False, False]])"
      ]
     },
     "execution_count": 8,
     "metadata": {},
     "output_type": "execute_result"
    }
   ],
   "source": [
    "#return boolean true for less than six and false for greater than six\n",
    "x<6"
   ]
  },
  {
   "cell_type": "code",
   "execution_count": 9,
   "metadata": {},
   "outputs": [
    {
     "data": {
      "text/plain": [
       "array([[ True,  True,  True,  True],\n",
       "       [False, False,  True,  True],\n",
       "       [ True,  True, False, False]])"
      ]
     },
     "execution_count": 9,
     "metadata": {},
     "output_type": "execute_result"
    }
   ],
   "source": [
    "#its equivalent to np.less\n",
    "np.less(x,6)"
   ]
  },
  {
   "cell_type": "markdown",
   "metadata": {},
   "source": [
    "# WORKING WITH BOOLEAN ARRAYS"
   ]
  },
  {
   "cell_type": "code",
   "execution_count": 10,
   "metadata": {},
   "outputs": [
    {
     "data": {
      "text/plain": [
       "array([[5, 0, 3, 3],\n",
       "       [7, 9, 3, 5],\n",
       "       [2, 4, 7, 6]])"
      ]
     },
     "execution_count": 10,
     "metadata": {},
     "output_type": "execute_result"
    }
   ],
   "source": [
    "x"
   ]
  },
  {
   "cell_type": "code",
   "execution_count": 11,
   "metadata": {},
   "outputs": [
    {
     "data": {
      "text/plain": [
       "8"
      ]
     },
     "execution_count": 11,
     "metadata": {},
     "output_type": "execute_result"
    }
   ],
   "source": [
    "#count how many values less than 6\n",
    "np.count_nonzero(x<6)"
   ]
  },
  {
   "cell_type": "code",
   "execution_count": 12,
   "metadata": {},
   "outputs": [
    {
     "data": {
      "text/plain": [
       "8"
      ]
     },
     "execution_count": 12,
     "metadata": {},
     "output_type": "execute_result"
    }
   ],
   "source": [
    "#other method to achieve above function is using np.sum\n",
    "np.sum(x<6)"
   ]
  },
  {
   "cell_type": "code",
   "execution_count": 13,
   "metadata": {},
   "outputs": [
    {
     "data": {
      "text/plain": [
       "array([4, 2, 2])"
      ]
     },
     "execution_count": 13,
     "metadata": {},
     "output_type": "execute_result"
    }
   ],
   "source": [
    "#np.sum acn also be used to take aggregate along rows and columns \n",
    "np.sum(x<6, axis =1)"
   ]
  },
  {
   "cell_type": "code",
   "execution_count": 18,
   "metadata": {},
   "outputs": [
    {
     "data": {
      "text/plain": [
       "array([2, 2, 2, 2])"
      ]
     },
     "execution_count": 18,
     "metadata": {},
     "output_type": "execute_result"
    }
   ],
   "source": [
    "np.sum(x<6, axis = 0) #axis = row"
   ]
  },
  {
   "cell_type": "code",
   "execution_count": 19,
   "metadata": {},
   "outputs": [
    {
     "data": {
      "text/plain": [
       "True"
      ]
     },
     "execution_count": 19,
     "metadata": {},
     "output_type": "execute_result"
    }
   ],
   "source": [
    "#are there any values greater than 8\n",
    "np.any(x>8)"
   ]
  },
  {
   "cell_type": "code",
   "execution_count": 20,
   "metadata": {},
   "outputs": [
    {
     "data": {
      "text/plain": [
       "False"
      ]
     },
     "execution_count": 20,
     "metadata": {},
     "output_type": "execute_result"
    }
   ],
   "source": [
    "#are there any values less than 0\n",
    "np.any(x<0)"
   ]
  },
  {
   "cell_type": "code",
   "execution_count": 21,
   "metadata": {},
   "outputs": [
    {
     "data": {
      "text/plain": [
       "True"
      ]
     },
     "execution_count": 21,
     "metadata": {},
     "output_type": "execute_result"
    }
   ],
   "source": [
    "#are all values less than 10\n",
    "np.all(x<10)"
   ]
  },
  {
   "cell_type": "code",
   "execution_count": 22,
   "metadata": {},
   "outputs": [
    {
     "data": {
      "text/plain": [
       "False"
      ]
     },
     "execution_count": 22,
     "metadata": {},
     "output_type": "execute_result"
    }
   ],
   "source": [
    "#are all values equal to 6\n",
    "np.all(x==6)"
   ]
  },
  {
   "cell_type": "code",
   "execution_count": 23,
   "metadata": {},
   "outputs": [
    {
     "data": {
      "text/plain": [
       "array([ True, False,  True])"
      ]
     },
     "execution_count": 23,
     "metadata": {},
     "output_type": "execute_result"
    }
   ],
   "source": [
    "#both np.any and np.all can be applied along row and column \n",
    "#example :ara all values in each rows less than 8\n",
    "np.all(x<8, axis = 1)"
   ]
  },
  {
   "cell_type": "markdown",
   "metadata": {},
   "source": [
    "# BOOLEAN OPERATOR"
   ]
  },
  {
   "cell_type": "code",
   "execution_count": 24,
   "metadata": {
    "collapsed": true
   },
   "outputs": [],
   "source": [
    "#BOOLEAN WITH THEIR EQUIVALENT NP FUNCTIONS\n",
    "#& == np.bitwise_and\n",
    "# | == np.bitwise_or\n",
    "# ^ == np.bitwise_xor\n",
    "# ~ == np.bitwise_not"
   ]
  },
  {
   "cell_type": "code",
   "execution_count": 32,
   "metadata": {},
   "outputs": [
    {
     "data": {
      "text/html": [
       "<div>\n",
       "<style scoped>\n",
       "    .dataframe tbody tr th:only-of-type {\n",
       "        vertical-align: middle;\n",
       "    }\n",
       "\n",
       "    .dataframe tbody tr th {\n",
       "        vertical-align: top;\n",
       "    }\n",
       "\n",
       "    .dataframe thead th {\n",
       "        text-align: right;\n",
       "    }\n",
       "</style>\n",
       "<table border=\"1\" class=\"dataframe\">\n",
       "  <thead>\n",
       "    <tr style=\"text-align: right;\">\n",
       "      <th></th>\n",
       "      <th>STATION</th>\n",
       "      <th>STATION_NAME</th>\n",
       "      <th>DATE</th>\n",
       "      <th>PRCP</th>\n",
       "      <th>SNWD</th>\n",
       "      <th>SNOW</th>\n",
       "      <th>TMAX</th>\n",
       "      <th>TMIN</th>\n",
       "      <th>AWND</th>\n",
       "      <th>WDF2</th>\n",
       "      <th>WDF5</th>\n",
       "      <th>WSF2</th>\n",
       "      <th>WSF5</th>\n",
       "      <th>WT01</th>\n",
       "      <th>WT05</th>\n",
       "      <th>WT02</th>\n",
       "      <th>WT03</th>\n",
       "    </tr>\n",
       "  </thead>\n",
       "  <tbody>\n",
       "    <tr>\n",
       "      <th>0</th>\n",
       "      <td>NaN</td>\n",
       "      <td>NaN</td>\n",
       "      <td>NaN</td>\n",
       "      <td>NaN</td>\n",
       "      <td>NaN</td>\n",
       "      <td>NaN</td>\n",
       "      <td>NaN</td>\n",
       "      <td>NaN</td>\n",
       "      <td>NaN</td>\n",
       "      <td>NaN</td>\n",
       "      <td>NaN</td>\n",
       "      <td>NaN</td>\n",
       "      <td>NaN</td>\n",
       "      <td>NaN</td>\n",
       "      <td>NaN</td>\n",
       "      <td>NaN</td>\n",
       "      <td>NaN</td>\n",
       "    </tr>\n",
       "    <tr>\n",
       "      <th>1</th>\n",
       "      <td>GHCND:USW00024233</td>\n",
       "      <td>SEATTLE TACOMA INTERNATIONAL AIRPORT WA US</td>\n",
       "      <td>20140101.0</td>\n",
       "      <td>0.0</td>\n",
       "      <td>0.0</td>\n",
       "      <td>0.0</td>\n",
       "      <td>72.0</td>\n",
       "      <td>33.0</td>\n",
       "      <td>12.0</td>\n",
       "      <td>340.0</td>\n",
       "      <td>310.0</td>\n",
       "      <td>36.0</td>\n",
       "      <td>40.0</td>\n",
       "      <td>-9999.0</td>\n",
       "      <td>-9999.0</td>\n",
       "      <td>-9999.0</td>\n",
       "      <td>-9999.0</td>\n",
       "    </tr>\n",
       "    <tr>\n",
       "      <th>2</th>\n",
       "      <td>NaN</td>\n",
       "      <td>NaN</td>\n",
       "      <td>NaN</td>\n",
       "      <td>NaN</td>\n",
       "      <td>NaN</td>\n",
       "      <td>NaN</td>\n",
       "      <td>NaN</td>\n",
       "      <td>NaN</td>\n",
       "      <td>NaN</td>\n",
       "      <td>NaN</td>\n",
       "      <td>NaN</td>\n",
       "      <td>NaN</td>\n",
       "      <td>NaN</td>\n",
       "      <td>NaN</td>\n",
       "      <td>NaN</td>\n",
       "      <td>NaN</td>\n",
       "      <td>NaN</td>\n",
       "    </tr>\n",
       "    <tr>\n",
       "      <th>3</th>\n",
       "      <td>GHCND:USW00024233</td>\n",
       "      <td>SEATTLE TACOMA INTERNATIONAL AIRPORT WA US</td>\n",
       "      <td>20140102.0</td>\n",
       "      <td>41.0</td>\n",
       "      <td>0.0</td>\n",
       "      <td>0.0</td>\n",
       "      <td>106.0</td>\n",
       "      <td>61.0</td>\n",
       "      <td>32.0</td>\n",
       "      <td>190.0</td>\n",
       "      <td>200.0</td>\n",
       "      <td>94.0</td>\n",
       "      <td>116.0</td>\n",
       "      <td>-9999.0</td>\n",
       "      <td>-9999.0</td>\n",
       "      <td>-9999.0</td>\n",
       "      <td>-9999.0</td>\n",
       "    </tr>\n",
       "    <tr>\n",
       "      <th>4</th>\n",
       "      <td>NaN</td>\n",
       "      <td>NaN</td>\n",
       "      <td>NaN</td>\n",
       "      <td>NaN</td>\n",
       "      <td>NaN</td>\n",
       "      <td>NaN</td>\n",
       "      <td>NaN</td>\n",
       "      <td>NaN</td>\n",
       "      <td>NaN</td>\n",
       "      <td>NaN</td>\n",
       "      <td>NaN</td>\n",
       "      <td>NaN</td>\n",
       "      <td>NaN</td>\n",
       "      <td>NaN</td>\n",
       "      <td>NaN</td>\n",
       "      <td>NaN</td>\n",
       "      <td>NaN</td>\n",
       "    </tr>\n",
       "    <tr>\n",
       "      <th>...</th>\n",
       "      <td>...</td>\n",
       "      <td>...</td>\n",
       "      <td>...</td>\n",
       "      <td>...</td>\n",
       "      <td>...</td>\n",
       "      <td>...</td>\n",
       "      <td>...</td>\n",
       "      <td>...</td>\n",
       "      <td>...</td>\n",
       "      <td>...</td>\n",
       "      <td>...</td>\n",
       "      <td>...</td>\n",
       "      <td>...</td>\n",
       "      <td>...</td>\n",
       "      <td>...</td>\n",
       "      <td>...</td>\n",
       "      <td>...</td>\n",
       "    </tr>\n",
       "    <tr>\n",
       "      <th>725</th>\n",
       "      <td>GHCND:USW00024233</td>\n",
       "      <td>SEATTLE TACOMA INTERNATIONAL AIRPORT WA US</td>\n",
       "      <td>20141229.0</td>\n",
       "      <td>0.0</td>\n",
       "      <td>0.0</td>\n",
       "      <td>0.0</td>\n",
       "      <td>61.0</td>\n",
       "      <td>6.0</td>\n",
       "      <td>43.0</td>\n",
       "      <td>350.0</td>\n",
       "      <td>350.0</td>\n",
       "      <td>76.0</td>\n",
       "      <td>103.0</td>\n",
       "      <td>1.0</td>\n",
       "      <td>-9999.0</td>\n",
       "      <td>-9999.0</td>\n",
       "      <td>-9999.0</td>\n",
       "    </tr>\n",
       "    <tr>\n",
       "      <th>726</th>\n",
       "      <td>NaN</td>\n",
       "      <td>NaN</td>\n",
       "      <td>NaN</td>\n",
       "      <td>NaN</td>\n",
       "      <td>NaN</td>\n",
       "      <td>NaN</td>\n",
       "      <td>NaN</td>\n",
       "      <td>NaN</td>\n",
       "      <td>NaN</td>\n",
       "      <td>NaN</td>\n",
       "      <td>NaN</td>\n",
       "      <td>NaN</td>\n",
       "      <td>NaN</td>\n",
       "      <td>NaN</td>\n",
       "      <td>NaN</td>\n",
       "      <td>NaN</td>\n",
       "      <td>NaN</td>\n",
       "    </tr>\n",
       "    <tr>\n",
       "      <th>727</th>\n",
       "      <td>GHCND:USW00024233</td>\n",
       "      <td>SEATTLE TACOMA INTERNATIONAL AIRPORT WA US</td>\n",
       "      <td>20141230.0</td>\n",
       "      <td>0.0</td>\n",
       "      <td>0.0</td>\n",
       "      <td>0.0</td>\n",
       "      <td>33.0</td>\n",
       "      <td>-21.0</td>\n",
       "      <td>36.0</td>\n",
       "      <td>90.0</td>\n",
       "      <td>70.0</td>\n",
       "      <td>63.0</td>\n",
       "      <td>76.0</td>\n",
       "      <td>-9999.0</td>\n",
       "      <td>-9999.0</td>\n",
       "      <td>-9999.0</td>\n",
       "      <td>-9999.0</td>\n",
       "    </tr>\n",
       "    <tr>\n",
       "      <th>728</th>\n",
       "      <td>NaN</td>\n",
       "      <td>NaN</td>\n",
       "      <td>NaN</td>\n",
       "      <td>NaN</td>\n",
       "      <td>NaN</td>\n",
       "      <td>NaN</td>\n",
       "      <td>NaN</td>\n",
       "      <td>NaN</td>\n",
       "      <td>NaN</td>\n",
       "      <td>NaN</td>\n",
       "      <td>NaN</td>\n",
       "      <td>NaN</td>\n",
       "      <td>NaN</td>\n",
       "      <td>NaN</td>\n",
       "      <td>NaN</td>\n",
       "      <td>NaN</td>\n",
       "      <td>NaN</td>\n",
       "    </tr>\n",
       "    <tr>\n",
       "      <th>729</th>\n",
       "      <td>GHCND:USW00024233</td>\n",
       "      <td>SEATTLE TACOMA INTERNATIONAL AIRPORT WA US</td>\n",
       "      <td>20141231.0</td>\n",
       "      <td>0.0</td>\n",
       "      <td>0.0</td>\n",
       "      <td>0.0</td>\n",
       "      <td>33.0</td>\n",
       "      <td>-27.0</td>\n",
       "      <td>30.0</td>\n",
       "      <td>30.0</td>\n",
       "      <td>-9999.0</td>\n",
       "      <td>58.0</td>\n",
       "      <td>-9999.0</td>\n",
       "      <td>-9999.0</td>\n",
       "      <td>-9999.0</td>\n",
       "      <td>-9999.0</td>\n",
       "      <td>-9999.0</td>\n",
       "    </tr>\n",
       "  </tbody>\n",
       "</table>\n",
       "<p>730 rows × 17 columns</p>\n",
       "</div>"
      ],
      "text/plain": [
       "               STATION                                STATION_NAME  \\\n",
       "0                  NaN                                         NaN   \n",
       "1    GHCND:USW00024233  SEATTLE TACOMA INTERNATIONAL AIRPORT WA US   \n",
       "2                  NaN                                         NaN   \n",
       "3    GHCND:USW00024233  SEATTLE TACOMA INTERNATIONAL AIRPORT WA US   \n",
       "4                  NaN                                         NaN   \n",
       "..                 ...                                         ...   \n",
       "725  GHCND:USW00024233  SEATTLE TACOMA INTERNATIONAL AIRPORT WA US   \n",
       "726                NaN                                         NaN   \n",
       "727  GHCND:USW00024233  SEATTLE TACOMA INTERNATIONAL AIRPORT WA US   \n",
       "728                NaN                                         NaN   \n",
       "729  GHCND:USW00024233  SEATTLE TACOMA INTERNATIONAL AIRPORT WA US   \n",
       "\n",
       "           DATE  PRCP  SNWD  SNOW   TMAX  TMIN  AWND   WDF2    WDF5  WSF2  \\\n",
       "0           NaN   NaN   NaN   NaN    NaN   NaN   NaN    NaN     NaN   NaN   \n",
       "1    20140101.0   0.0   0.0   0.0   72.0  33.0  12.0  340.0   310.0  36.0   \n",
       "2           NaN   NaN   NaN   NaN    NaN   NaN   NaN    NaN     NaN   NaN   \n",
       "3    20140102.0  41.0   0.0   0.0  106.0  61.0  32.0  190.0   200.0  94.0   \n",
       "4           NaN   NaN   NaN   NaN    NaN   NaN   NaN    NaN     NaN   NaN   \n",
       "..          ...   ...   ...   ...    ...   ...   ...    ...     ...   ...   \n",
       "725  20141229.0   0.0   0.0   0.0   61.0   6.0  43.0  350.0   350.0  76.0   \n",
       "726         NaN   NaN   NaN   NaN    NaN   NaN   NaN    NaN     NaN   NaN   \n",
       "727  20141230.0   0.0   0.0   0.0   33.0 -21.0  36.0   90.0    70.0  63.0   \n",
       "728         NaN   NaN   NaN   NaN    NaN   NaN   NaN    NaN     NaN   NaN   \n",
       "729  20141231.0   0.0   0.0   0.0   33.0 -27.0  30.0   30.0 -9999.0  58.0   \n",
       "\n",
       "       WSF5    WT01    WT05    WT02    WT03  \n",
       "0       NaN     NaN     NaN     NaN     NaN  \n",
       "1      40.0 -9999.0 -9999.0 -9999.0 -9999.0  \n",
       "2       NaN     NaN     NaN     NaN     NaN  \n",
       "3     116.0 -9999.0 -9999.0 -9999.0 -9999.0  \n",
       "4       NaN     NaN     NaN     NaN     NaN  \n",
       "..      ...     ...     ...     ...     ...  \n",
       "725   103.0     1.0 -9999.0 -9999.0 -9999.0  \n",
       "726     NaN     NaN     NaN     NaN     NaN  \n",
       "727    76.0 -9999.0 -9999.0 -9999.0 -9999.0  \n",
       "728     NaN     NaN     NaN     NaN     NaN  \n",
       "729 -9999.0 -9999.0 -9999.0 -9999.0 -9999.0  \n",
       "\n",
       "[730 rows x 17 columns]"
      ]
     },
     "execution_count": 32,
     "metadata": {},
     "output_type": "execute_result"
    }
   ],
   "source": [
    "seattle= pd.read_csv('C:\\\\Datasets\\\\seattle2014.csv')\n",
    "seattle"
   ]
  },
  {
   "cell_type": "code",
   "execution_count": 34,
   "metadata": {},
   "outputs": [
    {
     "data": {
      "text/plain": [
       "array([ nan,   0.,  nan,  41.,  nan,  15.,  nan,   0.,  nan,   0.,  nan,\n",
       "         3.,  nan, 122.,  nan,  97.,  nan,  58.,  nan,  43.,  nan, 213.,\n",
       "        nan,  15.,  nan,   0.,  nan,   0.,  nan,   0.,  nan,   0.,  nan,\n",
       "         0.,  nan,   0.,  nan,   0.,  nan,   0.,  nan,   0.,  nan,   5.,\n",
       "        nan,   0.,  nan,   0.,  nan,   0.,  nan,   0.,  nan,   0.,  nan,\n",
       "        89.,  nan, 216.,  nan,   0.,  nan,  23.,  nan,  20.,  nan,   0.,\n",
       "        nan,   0.,  nan,   0.,  nan,   0.,  nan,   0.,  nan,   0.,  nan,\n",
       "        51.,  nan,   5.,  nan, 183.,  nan, 170.,  nan,  46.,  nan,  18.,\n",
       "        nan,  94.,  nan, 117.,  nan, 264.,  nan, 145.,  nan, 152.,  nan,\n",
       "        10.,  nan,  30.,  nan,  28.,  nan,  25.,  nan,  61.,  nan, 130.,\n",
       "        nan,   3.,  nan,   0.,  nan,   0.,  nan,   0.,  nan,   5.,  nan,\n",
       "       191.,  nan, 107.,  nan, 165.,  nan, 467.,  nan,  30.,  nan,   0.,\n",
       "        nan, 323.,  nan,  43.,  nan, 188.,  nan,   0.,  nan,   0.,  nan,\n",
       "         5.,  nan,  69.,  nan,  81.,  nan, 277.,  nan,   3.,  nan,   0.,\n",
       "        nan,   5.,  nan,   0.,  nan,   0.,  nan,   0.,  nan,   0.,  nan,\n",
       "         0.,  nan,  41.,  nan,  36.,  nan,   3.,  nan, 221.,  nan, 140.,\n",
       "        nan,   0.,  nan,   0.,  nan,   0.,  nan,   0.,  nan,  25.,  nan,\n",
       "         0.,  nan,  46.,  nan,   0.,  nan,   0.,  nan,  46.,  nan,   0.,\n",
       "        nan,   0.,  nan,   0.,  nan,   0.,  nan,   0.,  nan,   0.,  nan,\n",
       "         5.,  nan, 109.,  nan, 185.,  nan,   0.,  nan, 137.,  nan,   0.,\n",
       "        nan,  51.,  nan, 142.,  nan,  89.,  nan, 124.,  nan,   0.,  nan,\n",
       "        33.,  nan,  69.,  nan,   0.,  nan,   0.,  nan,   0.,  nan,   0.,\n",
       "        nan,   0.,  nan, 333.,  nan, 160.,  nan,  51.,  nan,   0.,  nan,\n",
       "         0.,  nan, 137.,  nan,  20.,  nan,   5.,  nan,   0.,  nan,   0.,\n",
       "        nan,   0.,  nan,   0.,  nan,   0.,  nan,   0.,  nan,   0.,  nan,\n",
       "         0.,  nan,   0.,  nan,   0.,  nan,   0.,  nan,   0.,  nan,  38.,\n",
       "        nan,   0.,  nan,  56.,  nan,   0.,  nan,   0.,  nan,   0.,  nan,\n",
       "         0.,  nan,   0.,  nan,   0.,  nan,   0.,  nan,   0.,  nan,   0.,\n",
       "        nan,   0.,  nan,   0.,  nan,   0.,  nan,   0.,  nan,   0.,  nan,\n",
       "         0.,  nan,   0.,  nan,   0.,  nan,  18.,  nan,  64.,  nan,   0.,\n",
       "        nan,   5.,  nan,  36.,  nan,  13.,  nan,   0.,  nan,   8.,  nan,\n",
       "         3.,  nan,   0.,  nan,   0.,  nan,   0.,  nan,   0.,  nan,   0.,\n",
       "        nan,   0.,  nan,  18.,  nan,  23.,  nan,   0.,  nan,   0.,  nan,\n",
       "         0.,  nan,   0.,  nan,   0.,  nan,   0.,  nan,   0.,  nan,   0.,\n",
       "        nan,   0.,  nan,   0.,  nan,   0.,  nan,   0.,  nan,   0.,  nan,\n",
       "         0.,  nan,   0.,  nan,   0.,  nan,   0.,  nan,   0.,  nan,   0.,\n",
       "        nan,   0.,  nan,   0.,  nan,   0.,  nan,   0.,  nan,   3.,  nan,\n",
       "       193.,  nan,   0.,  nan,   0.,  nan,   0.,  nan,   0.,  nan,   0.,\n",
       "        nan,   0.,  nan,   0.,  nan,   0.,  nan,   0.,  nan,   5.,  nan,\n",
       "         0.,  nan,   0.,  nan,   0.,  nan,   0.,  nan,   0.,  nan,   0.,\n",
       "        nan,   0.,  nan,   0.,  nan,   5.,  nan, 127.,  nan, 216.,  nan,\n",
       "         0.,  nan,  10.,  nan,   0.,  nan,   0.,  nan,   0.,  nan,   0.,\n",
       "        nan,   0.,  nan,   0.,  nan,   0.,  nan,   0.,  nan,   0.,  nan,\n",
       "         0.,  nan,   0.,  nan,   0.,  nan,   0.,  nan,   0.,  nan,  84.,\n",
       "        nan,  13.,  nan,   0.,  nan,  30.,  nan,   0.,  nan,   0.,  nan,\n",
       "         0.,  nan,   0.,  nan,   0.,  nan,   0.,  nan,   0.,  nan,   0.,\n",
       "        nan,   0.,  nan,   0.,  nan,   0.,  nan,   0.,  nan,   0.,  nan,\n",
       "         0.,  nan,   5.,  nan,   3.,  nan,   0.,  nan,   0.,  nan,   0.,\n",
       "        nan,   3.,  nan, 183.,  nan, 203.,  nan,  43.,  nan,  89.,  nan,\n",
       "         0.,  nan,   0.,  nan,   8.,  nan,   0.,  nan,   0.,  nan,   0.,\n",
       "        nan,   0.,  nan,   0.,  nan,   0.,  nan,   0.,  nan,   0.,  nan,\n",
       "         0.,  nan,   0.,  nan,   3.,  nan,  74.,  nan,   0.,  nan,  76.,\n",
       "        nan,  71.,  nan,  86.,  nan,   0.,  nan,  33.,  nan, 150.,  nan,\n",
       "         0.,  nan, 117.,  nan,  10.,  nan, 320.,  nan,  94.,  nan,  41.,\n",
       "        nan,  61.,  nan,  15.,  nan,   8.,  nan, 127.,  nan,   5.,  nan,\n",
       "       254.,  nan, 170.,  nan,   0.,  nan,  18.,  nan, 109.,  nan,  41.,\n",
       "        nan,  48.,  nan,  41.,  nan,   0.,  nan,   0.,  nan,  51.,  nan,\n",
       "         0.,  nan,   0.,  nan,   0.,  nan,   0.,  nan,   0.,  nan,   0.,\n",
       "        nan,   0.,  nan,   0.,  nan,   0.,  nan,   0.,  nan,  36.,  nan,\n",
       "       152.,  nan,   5.,  nan, 119.,  nan,  13.,  nan, 183.,  nan,   3.,\n",
       "        nan,  33.,  nan, 343.,  nan,  36.,  nan,   0.,  nan,   0.,  nan,\n",
       "         0.,  nan,   0.,  nan,   8.,  nan,  30.,  nan,  74.,  nan,   0.,\n",
       "        nan,  91.,  nan,  99.,  nan, 130.,  nan,  69.,  nan,   0.,  nan,\n",
       "         0.,  nan,   0.,  nan,   0.,  nan,   0.,  nan,  28.,  nan, 130.,\n",
       "        nan,  30.,  nan, 196.,  nan,   0.,  nan,   0.,  nan, 206.,  nan,\n",
       "        53.,  nan,   0.,  nan,   0.,  nan,  33.,  nan,  41.,  nan,   0.,\n",
       "        nan,   0.,  nan,   0.])"
      ]
     },
     "execution_count": 34,
     "metadata": {},
     "output_type": "execute_result"
    }
   ],
   "source": [
    "rainfall = seattle['PRCP'].values\n",
    "rainfall\n"
   ]
  },
  {
   "cell_type": "code",
   "execution_count": 43,
   "metadata": {},
   "outputs": [
    {
     "data": {
      "text/plain": [
       "(730,)"
      ]
     },
     "execution_count": 43,
     "metadata": {},
     "output_type": "execute_result"
    }
   ],
   "source": [
    "inches  =rainfall/254 #1/10mm = inches\n",
    "inches.shape\n"
   ]
  },
  {
   "cell_type": "code",
   "execution_count": 45,
   "metadata": {},
   "outputs": [
    {
     "data": {
      "text/plain": [
       "array([0.        , 0.16141732, 0.05905512, 0.        , 0.        ,\n",
       "       0.01181102, 0.48031496, 0.38188976, 0.22834646, 0.16929134,\n",
       "       0.83858268, 0.05905512, 0.        , 0.        , 0.        ,\n",
       "       0.        , 0.        , 0.        , 0.        , 0.        ,\n",
       "       0.        , 0.01968504, 0.        , 0.        , 0.        ,\n",
       "       0.        , 0.        , 0.3503937 , 0.8503937 , 0.        ,\n",
       "       0.09055118, 0.07874016, 0.        , 0.        , 0.        ,\n",
       "       0.        , 0.        , 0.        , 0.2007874 , 0.01968504,\n",
       "       0.72047244, 0.66929134, 0.18110236, 0.07086614, 0.37007874,\n",
       "       0.46062992, 1.03937008, 0.57086614, 0.5984252 , 0.03937008,\n",
       "       0.11811024, 0.11023622, 0.0984252 , 0.24015748, 0.51181102,\n",
       "       0.01181102, 0.        , 0.        , 0.        , 0.01968504,\n",
       "       0.7519685 , 0.42125984, 0.6496063 , 1.83858268, 0.11811024,\n",
       "       0.        , 1.27165354, 0.16929134, 0.74015748, 0.        ,\n",
       "       0.        , 0.01968504, 0.27165354, 0.31889764, 1.09055118,\n",
       "       0.01181102, 0.        , 0.01968504, 0.        , 0.        ,\n",
       "       0.        , 0.        , 0.        , 0.16141732, 0.14173228,\n",
       "       0.01181102, 0.87007874, 0.5511811 , 0.        , 0.        ,\n",
       "       0.        , 0.        , 0.0984252 , 0.        , 0.18110236,\n",
       "       0.        , 0.        , 0.18110236, 0.        , 0.        ,\n",
       "       0.        , 0.        , 0.        , 0.        , 0.01968504,\n",
       "       0.42913386, 0.72834646, 0.        , 0.53937008, 0.        ,\n",
       "       0.2007874 , 0.55905512, 0.3503937 , 0.48818898, 0.        ,\n",
       "       0.12992126, 0.27165354, 0.        , 0.        , 0.        ,\n",
       "       0.        , 0.        , 1.31102362, 0.62992126, 0.2007874 ,\n",
       "       0.        , 0.        , 0.53937008, 0.07874016, 0.01968504,\n",
       "       0.        , 0.        , 0.        , 0.        , 0.        ,\n",
       "       0.        , 0.        , 0.        , 0.        , 0.        ,\n",
       "       0.        , 0.        , 0.1496063 , 0.        , 0.22047244,\n",
       "       0.        , 0.        , 0.        , 0.        , 0.        ,\n",
       "       0.        , 0.        , 0.        , 0.        , 0.        ,\n",
       "       0.        , 0.        , 0.        , 0.        , 0.        ,\n",
       "       0.        , 0.        , 0.07086614, 0.2519685 , 0.        ,\n",
       "       0.01968504, 0.14173228, 0.0511811 , 0.        , 0.03149606,\n",
       "       0.01181102, 0.        , 0.        , 0.        , 0.        ,\n",
       "       0.        , 0.        , 0.07086614, 0.09055118, 0.        ,\n",
       "       0.        , 0.        , 0.        , 0.        , 0.        ,\n",
       "       0.        , 0.        , 0.        , 0.        , 0.        ,\n",
       "       0.        , 0.        , 0.        , 0.        , 0.        ,\n",
       "       0.        , 0.        , 0.        , 0.        , 0.        ,\n",
       "       0.        , 0.        , 0.01181102, 0.75984252, 0.        ,\n",
       "       0.        , 0.        , 0.        , 0.        , 0.        ,\n",
       "       0.        , 0.        , 0.        , 0.01968504, 0.        ,\n",
       "       0.        , 0.        , 0.        , 0.        , 0.        ,\n",
       "       0.        , 0.        , 0.01968504, 0.5       , 0.8503937 ,\n",
       "       0.        , 0.03937008, 0.        , 0.        , 0.        ,\n",
       "       0.        , 0.        , 0.        , 0.        , 0.        ,\n",
       "       0.        , 0.        , 0.        , 0.        , 0.        ,\n",
       "       0.        , 0.33070866, 0.0511811 , 0.        , 0.11811024,\n",
       "       0.        , 0.        , 0.        , 0.        , 0.        ,\n",
       "       0.        , 0.        , 0.        , 0.        , 0.        ,\n",
       "       0.        , 0.        , 0.        , 0.        , 0.01968504,\n",
       "       0.01181102, 0.        , 0.        , 0.        , 0.01181102,\n",
       "       0.72047244, 0.7992126 , 0.16929134, 0.3503937 , 0.        ,\n",
       "       0.        , 0.03149606, 0.        , 0.        , 0.        ,\n",
       "       0.        , 0.        , 0.        , 0.        , 0.        ,\n",
       "       0.        , 0.        , 0.01181102, 0.29133858, 0.        ,\n",
       "       0.2992126 , 0.27952756, 0.33858268, 0.        , 0.12992126,\n",
       "       0.59055118, 0.        , 0.46062992, 0.03937008, 1.25984252,\n",
       "       0.37007874, 0.16141732, 0.24015748, 0.05905512, 0.03149606,\n",
       "       0.5       , 0.01968504, 1.        , 0.66929134, 0.        ,\n",
       "       0.07086614, 0.42913386, 0.16141732, 0.18897638, 0.16141732,\n",
       "       0.        , 0.        , 0.2007874 , 0.        , 0.        ,\n",
       "       0.        , 0.        , 0.        , 0.        , 0.        ,\n",
       "       0.        , 0.        , 0.        , 0.14173228, 0.5984252 ,\n",
       "       0.01968504, 0.46850394, 0.0511811 , 0.72047244, 0.01181102,\n",
       "       0.12992126, 1.3503937 , 0.14173228, 0.        , 0.        ,\n",
       "       0.        , 0.        , 0.03149606, 0.11811024, 0.29133858,\n",
       "       0.        , 0.35826772, 0.38976378, 0.51181102, 0.27165354,\n",
       "       0.        , 0.        , 0.        , 0.        , 0.        ,\n",
       "       0.11023622, 0.51181102, 0.11811024, 0.77165354, 0.        ,\n",
       "       0.        , 0.81102362, 0.20866142, 0.        , 0.        ,\n",
       "       0.12992126, 0.16141732, 0.        , 0.        , 0.        ])"
      ]
     },
     "execution_count": 45,
     "metadata": {},
     "output_type": "execute_result"
    }
   ],
   "source": [
    "val = pd.notna(inches)\n",
    "inches[val]"
   ]
  },
  {
   "cell_type": "code",
   "execution_count": 40,
   "metadata": {},
   "outputs": [
    {
     "data": {
      "text/plain": [
       "29"
      ]
     },
     "execution_count": 40,
     "metadata": {},
     "output_type": "execute_result"
    }
   ],
   "source": [
    "#how many days rainfall do we have betweeen 0.5 and 1 inches\n",
    "np.sum((np.greater(inches[val], 0.5)) & (np.less(inches[val], 1)))"
   ]
  },
  {
   "cell_type": "code",
   "execution_count": 46,
   "metadata": {},
   "outputs": [
    {
     "data": {
      "text/plain": [
       "365"
      ]
     },
     "execution_count": 46,
     "metadata": {},
     "output_type": "execute_result"
    }
   ],
   "source": [
    "np.sum((inches[val]>0.5) | (inches[val]<1))"
   ]
  },
  {
   "cell_type": "code",
   "execution_count": 48,
   "metadata": {},
   "outputs": [
    {
     "name": "stdout",
     "output_type": "stream",
     "text": [
      "number of days without rain:  215\n",
      "number of days with rain:  150\n",
      "number of days with more than 0.5 inches:  37\n",
      "number of days with less than 0.1 inches:  75\n"
     ]
    }
   ],
   "source": [
    "print('number of days without rain: ', np.sum(inches[val] ==0))\n",
    "print('number of days with rain: ', np.sum(inches[val] !=0))\n",
    "print('number of days with more than 0.5 inches: ' , np.sum(inches[val] >0.5))\n",
    "print('number of days with less than 0.1 inches: ', np.sum((inches[val]>0) &(inches[val]<0.2)))"
   ]
  },
  {
   "cell_type": "markdown",
   "metadata": {},
   "source": [
    "# BOOLEAN ARRAY MASKING"
   ]
  },
  {
   "cell_type": "code",
   "execution_count": 49,
   "metadata": {},
   "outputs": [
    {
     "data": {
      "text/plain": [
       "array([[5, 0, 3, 3],\n",
       "       [7, 9, 3, 5],\n",
       "       [2, 4, 7, 6]])"
      ]
     },
     "execution_count": 49,
     "metadata": {},
     "output_type": "execute_result"
    }
   ],
   "source": [
    "x"
   ]
  },
  {
   "cell_type": "code",
   "execution_count": 50,
   "metadata": {},
   "outputs": [
    {
     "data": {
      "text/plain": [
       "array([[False,  True,  True,  True],\n",
       "       [False, False,  True, False],\n",
       "       [ True,  True, False, False]])"
      ]
     },
     "execution_count": 50,
     "metadata": {},
     "output_type": "execute_result"
    }
   ],
   "source": [
    "#select  all values from x where x is less than 5\n",
    "x<5"
   ]
  },
  {
   "cell_type": "code",
   "execution_count": 52,
   "metadata": {},
   "outputs": [
    {
     "data": {
      "text/plain": [
       "array([0, 3, 3, 3, 2, 4])"
      ]
     },
     "execution_count": 52,
     "metadata": {},
     "output_type": "execute_result"
    }
   ],
   "source": [
    "# shoe all thereal value of those that are true value\n",
    "x[x<5]"
   ]
  },
  {
   "cell_type": "code",
   "execution_count": 53,
   "metadata": {},
   "outputs": [
    {
     "data": {
      "text/plain": [
       "array([False,  True,  True, False, False,  True,  True,  True,  True,\n",
       "        True,  True,  True, False, False, False, False, False, False,\n",
       "       False, False, False,  True, False, False, False, False, False,\n",
       "        True,  True, False,  True,  True, False, False, False, False,\n",
       "       False, False,  True,  True,  True,  True,  True,  True,  True,\n",
       "        True,  True,  True,  True,  True,  True,  True,  True,  True,\n",
       "        True,  True, False, False, False,  True,  True,  True,  True,\n",
       "        True,  True, False,  True,  True,  True, False, False,  True,\n",
       "        True,  True,  True,  True, False,  True, False, False, False,\n",
       "       False, False,  True,  True,  True,  True,  True, False, False,\n",
       "       False, False,  True, False,  True, False, False,  True, False,\n",
       "       False, False, False, False, False,  True,  True,  True, False,\n",
       "        True, False,  True,  True,  True,  True, False,  True,  True,\n",
       "       False, False, False, False, False,  True,  True,  True, False,\n",
       "       False,  True,  True,  True, False, False, False, False, False,\n",
       "       False, False, False, False, False, False, False,  True, False,\n",
       "        True, False, False, False, False, False, False, False, False,\n",
       "       False, False, False, False, False, False, False, False, False,\n",
       "        True,  True, False,  True,  True,  True, False,  True,  True,\n",
       "       False, False, False, False, False, False,  True,  True, False,\n",
       "       False, False, False, False, False, False, False, False, False,\n",
       "       False, False, False, False, False, False, False, False, False,\n",
       "       False, False, False, False,  True,  True, False, False, False,\n",
       "       False, False, False, False, False, False,  True, False, False,\n",
       "       False, False, False, False, False, False,  True,  True,  True,\n",
       "       False,  True, False, False, False, False, False, False, False,\n",
       "       False, False, False, False, False, False, False,  True,  True,\n",
       "       False,  True, False, False, False, False, False, False, False,\n",
       "       False, False, False, False, False, False, False,  True,  True,\n",
       "       False, False, False,  True,  True,  True,  True,  True, False,\n",
       "       False,  True, False, False, False, False, False, False, False,\n",
       "       False, False, False,  True,  True, False,  True,  True,  True,\n",
       "       False,  True,  True, False,  True,  True,  True,  True,  True,\n",
       "        True,  True,  True,  True,  True,  True,  True, False,  True,\n",
       "        True,  True,  True,  True, False, False,  True, False, False,\n",
       "       False, False, False, False, False, False, False, False,  True,\n",
       "        True,  True,  True,  True,  True,  True,  True,  True,  True,\n",
       "       False, False, False, False,  True,  True,  True, False,  True,\n",
       "        True,  True,  True, False, False, False, False, False,  True,\n",
       "        True,  True,  True, False, False,  True,  True, False, False,\n",
       "        True,  True, False, False, False])"
      ]
     },
     "execution_count": 53,
     "metadata": {},
     "output_type": "execute_result"
    }
   ],
   "source": [
    "#contruct a mask of all rainy days\n",
    "inche= inches [val]\n",
    "rainy = (inche>0)\n",
    "rainy"
   ]
  },
  {
   "cell_type": "code",
   "execution_count": 54,
   "metadata": {},
   "outputs": [
    {
     "data": {
      "text/plain": [
       "array([0.16141732, 0.05905512, 0.01181102, 0.48031496, 0.38188976,\n",
       "       0.22834646, 0.16929134, 0.83858268, 0.05905512, 0.01968504,\n",
       "       0.3503937 , 0.8503937 , 0.09055118, 0.07874016, 0.2007874 ,\n",
       "       0.01968504, 0.72047244, 0.66929134, 0.18110236, 0.07086614,\n",
       "       0.37007874, 0.46062992, 1.03937008, 0.57086614, 0.5984252 ,\n",
       "       0.03937008, 0.11811024, 0.11023622, 0.0984252 , 0.24015748,\n",
       "       0.51181102, 0.01181102, 0.01968504, 0.7519685 , 0.42125984,\n",
       "       0.6496063 , 1.83858268, 0.11811024, 1.27165354, 0.16929134,\n",
       "       0.74015748, 0.01968504, 0.27165354, 0.31889764, 1.09055118,\n",
       "       0.01181102, 0.01968504, 0.16141732, 0.14173228, 0.01181102,\n",
       "       0.87007874, 0.5511811 , 0.0984252 , 0.18110236, 0.18110236,\n",
       "       0.01968504, 0.42913386, 0.72834646, 0.53937008, 0.2007874 ,\n",
       "       0.55905512, 0.3503937 , 0.48818898, 0.12992126, 0.27165354,\n",
       "       1.31102362, 0.62992126, 0.2007874 , 0.53937008, 0.07874016,\n",
       "       0.01968504, 0.1496063 , 0.22047244, 0.07086614, 0.2519685 ,\n",
       "       0.01968504, 0.14173228, 0.0511811 , 0.03149606, 0.01181102,\n",
       "       0.07086614, 0.09055118, 0.01181102, 0.75984252, 0.01968504,\n",
       "       0.01968504, 0.5       , 0.8503937 , 0.03937008, 0.33070866,\n",
       "       0.0511811 , 0.11811024, 0.01968504, 0.01181102, 0.01181102,\n",
       "       0.72047244, 0.7992126 , 0.16929134, 0.3503937 , 0.03149606,\n",
       "       0.01181102, 0.29133858, 0.2992126 , 0.27952756, 0.33858268,\n",
       "       0.12992126, 0.59055118, 0.46062992, 0.03937008, 1.25984252,\n",
       "       0.37007874, 0.16141732, 0.24015748, 0.05905512, 0.03149606,\n",
       "       0.5       , 0.01968504, 1.        , 0.66929134, 0.07086614,\n",
       "       0.42913386, 0.16141732, 0.18897638, 0.16141732, 0.2007874 ,\n",
       "       0.14173228, 0.5984252 , 0.01968504, 0.46850394, 0.0511811 ,\n",
       "       0.72047244, 0.01181102, 0.12992126, 1.3503937 , 0.14173228,\n",
       "       0.03149606, 0.11811024, 0.29133858, 0.35826772, 0.38976378,\n",
       "       0.51181102, 0.27165354, 0.11023622, 0.51181102, 0.11811024,\n",
       "       0.77165354, 0.81102362, 0.20866142, 0.12992126, 0.16141732])"
      ]
     },
     "execution_count": 54,
     "metadata": {},
     "output_type": "execute_result"
    }
   ],
   "source": [
    "# to see those that are true from inche\n",
    "inche[rainy]"
   ]
  },
  {
   "cell_type": "code",
   "execution_count": 60,
   "metadata": {},
   "outputs": [
    {
     "data": {
      "text/plain": [
       "150"
      ]
     },
     "execution_count": 60,
     "metadata": {},
     "output_type": "execute_result"
    }
   ],
   "source": [
    "#to know the number of rainy day\n",
    "np.sum(rainy)"
   ]
  },
  {
   "cell_type": "code",
   "execution_count": 61,
   "metadata": {},
   "outputs": [
    {
     "data": {
      "text/plain": [
       "array([0.        , 0.        , 0.        , 0.        , 0.07086614,\n",
       "       0.09055118, 0.        , 0.        , 0.        , 0.        ,\n",
       "       0.        , 0.        , 0.        , 0.        , 0.        ,\n",
       "       0.        , 0.        , 0.        , 0.        , 0.        ,\n",
       "       0.        , 0.        , 0.        , 0.        , 0.        ,\n",
       "       0.        , 0.        , 0.        , 0.        , 0.01181102,\n",
       "       0.75984252, 0.        , 0.        , 0.        , 0.        ,\n",
       "       0.        , 0.        , 0.        , 0.        , 0.        ,\n",
       "       0.01968504, 0.        , 0.        , 0.        , 0.        ,\n",
       "       0.        , 0.        , 0.        , 0.        , 0.01968504,\n",
       "       0.5       , 0.8503937 , 0.        , 0.03937008, 0.        ,\n",
       "       0.        , 0.        , 0.        , 0.        , 0.        ,\n",
       "       0.        , 0.        , 0.        , 0.        , 0.        ,\n",
       "       0.        , 0.        , 0.        , 0.33070866, 0.0511811 ,\n",
       "       0.        , 0.11811024, 0.        , 0.        , 0.        ,\n",
       "       0.        , 0.        , 0.        , 0.        , 0.        ,\n",
       "       0.        , 0.        , 0.        , 0.        , 0.        ,\n",
       "       0.        , 0.01968504, 0.01181102, 0.        ])"
      ]
     },
     "execution_count": 61,
     "metadata": {},
     "output_type": "execute_result"
    }
   ],
   "source": [
    "#contruct a mask of all the summer days(june 21ist is the 172nd day)\n",
    "summer  = (np.arange(365)-172<90) &(np.arange(365)-172>0)\n",
    "inche[summer]"
   ]
  },
  {
   "cell_type": "code",
   "execution_count": 62,
   "metadata": {},
   "outputs": [
    {
     "name": "stdout",
     "output_type": "stream",
     "text": [
      "median precip on rainy days in 2014(inches):  0.19488188976377951\n",
      "median precip on summer days in 2014(inches):  0.0\n",
      "maximum precip on summer days in 2014(inches):  0.8503937007874016\n",
      "median precip on non-summer days in 2014(inches):  0.20078740157480315\n"
     ]
    }
   ],
   "source": [
    "print(\"median precip on rainy days in 2014(inches): \", np.median(inche[rainy]))\n",
    "print(\"median precip on summer days in 2014(inches): \", np.median(inche[summer]))\n",
    "print(\"maximum precip on summer days in 2014(inches): \", np.max(inche[summer]))\n",
    "print(\"median precip on non-summer days in 2014(inches): \", np.median(inche[rainy&~summer]))"
   ]
  },
  {
   "cell_type": "markdown",
   "metadata": {},
   "source": [
    "# FANCY INDEXING"
   ]
  },
  {
   "cell_type": "code",
   "execution_count": 81,
   "metadata": {},
   "outputs": [
    {
     "name": "stdout",
     "output_type": "stream",
     "text": [
      "[51 92 14 71 60 20 82 86 74 74]\n"
     ]
    }
   ],
   "source": [
    "rand = np.random.RandomState(42)\n",
    "x = rand.randint(100, size= 10)\n",
    "print(x)"
   ]
  },
  {
   "cell_type": "code",
   "execution_count": 64,
   "metadata": {},
   "outputs": [
    {
     "data": {
      "text/plain": [
       "[71, 86, 74]"
      ]
     },
     "execution_count": 64,
     "metadata": {},
     "output_type": "execute_result"
    }
   ],
   "source": [
    "#suppose we want to acess three different elements\n",
    "[x[3], x[7], x[8]]"
   ]
  },
  {
   "cell_type": "code",
   "execution_count": 65,
   "metadata": {},
   "outputs": [
    {
     "data": {
      "text/plain": [
       "array([71, 86, 74])"
      ]
     },
     "execution_count": 65,
     "metadata": {},
     "output_type": "execute_result"
    }
   ],
   "source": [
    "#Alternatively\n",
    "ind = [3,7,8]\n",
    "x[ind]"
   ]
  },
  {
   "cell_type": "code",
   "execution_count": 66,
   "metadata": {},
   "outputs": [
    {
     "data": {
      "text/plain": [
       "array([[71, 86],\n",
       "       [60, 20]])"
      ]
     },
     "execution_count": 66,
     "metadata": {},
     "output_type": "execute_result"
    }
   ],
   "source": [
    "#to get the extracted array as multidimension array\n",
    "ind = np.array([[3,7], [4,5]])\n",
    "x[ind]"
   ]
  },
  {
   "cell_type": "code",
   "execution_count": 84,
   "metadata": {},
   "outputs": [
    {
     "data": {
      "text/plain": [
       "array([[ 0,  1,  2,  3],\n",
       "       [ 4,  5,  6,  7],\n",
       "       [ 8,  9, 10, 11]])"
      ]
     },
     "execution_count": 84,
     "metadata": {},
     "output_type": "execute_result"
    }
   ],
   "source": [
    "#fancy indexing for a multidimension array\n",
    "x= np.arange(12).reshape(3,4)\n",
    "x"
   ]
  },
  {
   "cell_type": "code",
   "execution_count": 86,
   "metadata": {},
   "outputs": [
    {
     "data": {
      "text/plain": [
       "array([ 2,  5, 11])"
      ]
     },
     "execution_count": 86,
     "metadata": {},
     "output_type": "execute_result"
    }
   ],
   "source": [
    "#to index multidimension array ,use a list of row and column\n",
    "row = np.array([0,1,2])\n",
    "col = np.array([2,1,3])\n",
    "x[row, col] #same as x[0,2]"
   ]
  },
  {
   "cell_type": "code",
   "execution_count": 87,
   "metadata": {},
   "outputs": [
    {
     "data": {
      "text/plain": [
       "array([[ 2,  1,  3],\n",
       "       [ 6,  5,  7],\n",
       "       [10,  9, 11]])"
      ]
     },
     "execution_count": 87,
     "metadata": {},
     "output_type": "execute_result"
    }
   ],
   "source": [
    "#we can combine a column vextor and row vecto within the indices to get a two diemnsional result\n",
    "x[row[:, np.newaxis], col]"
   ]
  },
  {
   "cell_type": "code",
   "execution_count": 89,
   "metadata": {},
   "outputs": [
    {
     "data": {
      "text/plain": [
       "array([[0, 0, 0],\n",
       "       [2, 1, 3],\n",
       "       [4, 2, 6]])"
      ]
     },
     "execution_count": 89,
     "metadata": {},
     "output_type": "execute_result"
    }
   ],
   "source": [
    "#it can also be use for a broadcasting of array\n",
    "row[:, np.newaxis] * col\n"
   ]
  },
  {
   "cell_type": "markdown",
   "metadata": {},
   "source": [
    "# COMBINE INDEXING"
   ]
  },
  {
   "cell_type": "code",
   "execution_count": null,
   "metadata": {
    "collapsed": true
   },
   "outputs": [],
   "source": []
  },
  {
   "cell_type": "code",
   "execution_count": 76,
   "metadata": {},
   "outputs": [
    {
     "data": {
      "text/plain": [
       "array([[ 0,  1,  2,  3],\n",
       "       [ 4,  5,  6,  7],\n",
       "       [ 8,  9, 10, 11]])"
      ]
     },
     "execution_count": 76,
     "metadata": {},
     "output_type": "execute_result"
    }
   ],
   "source": [
    "x"
   ]
  },
  {
   "cell_type": "code",
   "execution_count": 77,
   "metadata": {},
   "outputs": [
    {
     "data": {
      "text/plain": [
       "array([10,  8,  9])"
      ]
     },
     "execution_count": 77,
     "metadata": {},
     "output_type": "execute_result"
    }
   ],
   "source": [
    "#combinig fancy index with simple indices\n",
    "x[2, [2,0,1]]"
   ]
  },
  {
   "cell_type": "code",
   "execution_count": 78,
   "metadata": {},
   "outputs": [
    {
     "data": {
      "text/plain": [
       "array([[ 6,  4,  5],\n",
       "       [10,  8,  9]])"
      ]
     },
     "execution_count": 78,
     "metadata": {},
     "output_type": "execute_result"
    }
   ],
   "source": [
    "#combining fancy index with slicing\n",
    "x[1:, [2,0,1]]"
   ]
  },
  {
   "cell_type": "code",
   "execution_count": 90,
   "metadata": {},
   "outputs": [
    {
     "data": {
      "text/plain": [
       "array([[ 0,  2],\n",
       "       [ 4,  6],\n",
       "       [ 8, 10]])"
      ]
     },
     "execution_count": 90,
     "metadata": {},
     "output_type": "execute_result"
    }
   ],
   "source": [
    "#we can combine fancu=y index with boolena masking\n",
    "mask = np.array([1,0,1,0], dtype='bool')\n",
    "x[row[:, np.newaxis] , mask]"
   ]
  },
  {
   "cell_type": "code",
   "execution_count": 97,
   "metadata": {},
   "outputs": [
    {
     "data": {
      "text/plain": [
       "(100, 2)"
      ]
     },
     "execution_count": 97,
     "metadata": {},
     "output_type": "execute_result"
    }
   ],
   "source": [
    "#practical example of working with a fancy indexing\n",
    "mean = [0,0]\n",
    "cov = [[1,2], [2,5]]\n",
    "x = np.random.multivariate_normal(mean, cov, 100)\n",
    "x.shape"
   ]
  },
  {
   "cell_type": "code",
   "execution_count": 108,
   "metadata": {},
   "outputs": [
    {
     "data": {
      "image/png": "[encoded data removed]",
      "text/plain": [
       "<matplotlib.figure.Figure at 0x1f595175d30>"
      ]
     },
     "metadata": {},
     "output_type": "display_data"
    }
   ],
   "source": [
    "#view generated sample using scatter plot\n",
    "%matplotlib inline\n",
    "import matplotlib.pyplot as plt\n",
    "plt.style.use('seaborn-darkgrid')\n",
    "# plt.style.available\n",
    "# import seaborn; seaborn.set()\n",
    "X = x[:, 0]\n",
    "Y = x[:, 1]\n",
    "plt.scatter(X, Y);"
   ]
  },
  {
   "cell_type": "code",
   "execution_count": 109,
   "metadata": {},
   "outputs": [
    {
     "name": "stdout",
     "output_type": "stream",
     "text": [
      "[ 5 51 16 90 85 47 66  3  8 27 36 84 59 91 73 77 10 68 69 89]\n"
     ]
    },
    {
     "data": {
      "text/plain": [
       "(20, 2)"
      ]
     },
     "execution_count": 109,
     "metadata": {},
     "output_type": "execute_result"
    }
   ],
   "source": [
    "#use fancy index to genarate 20 samples at random from the data\n",
    "row =np.random.choice(x.shape[0], 20, replace = False)\n",
    "selection = x[row,:]\n",
    "print(row)\n",
    "selection.shape"
   ]
  },
  {
   "cell_type": "code",
   "execution_count": 110,
   "metadata": {},
   "outputs": [
    {
     "data": {
      "text/plain": [
       "<matplotlib.collections.PathCollection at 0x1f5955155f8>"
      ]
     },
     "execution_count": 110,
     "metadata": {},
     "output_type": "execute_result"
    },
    {
     "data": {
      "image/png": "[encoded data removed]",
      "text/plain": [
       "<matplotlib.figure.Figure at 0x1f595515c88>"
      ]
     },
     "metadata": {},
     "output_type": "display_data"
    }
   ],
   "source": [
    "#let us view whihc point were selected from the data using the scatter plot\n",
    "plt.scatter(X,Y, alpha = 0.3)\n",
    "plt.scatter(selection[:,0], selection[:, 1], facecolor = '#FFDD33', s = 20) #s mean size of the graph data"
   ]
  },
  {
   "cell_type": "markdown",
   "metadata": {
    "collapsed": true
   },
   "source": [
    "# MODIFYING VALUES OF ARRAY WITH FANCY INDEXING"
   ]
  },
  {
   "cell_type": "code",
   "execution_count": 2,
   "metadata": {},
   "outputs": [
    {
     "data": {
      "text/plain": [
       "array([0, 1, 2, 3, 4, 5, 6, 7, 8, 9])"
      ]
     },
     "execution_count": 2,
     "metadata": {},
     "output_type": "execute_result"
    }
   ],
   "source": [
    "#generate ana array of length 10 and list of indices to modify\n",
    "val = np.arange(10)\n",
    "i = np.array([2,-1,8,4])\n",
    "val"
   ]
  },
  {
   "cell_type": "code",
   "execution_count": 3,
   "metadata": {},
   "outputs": [
    {
     "data": {
      "text/plain": [
       "array([ 0,  1, 20,  3, 20,  5,  6,  7, 20, 20])"
      ]
     },
     "execution_count": 3,
     "metadata": {},
     "output_type": "execute_result"
    }
   ],
   "source": [
    "#change the value at each index  to 20\n",
    "val[i] = 20\n",
    "val"
   ]
  },
  {
   "cell_type": "code",
   "execution_count": 5,
   "metadata": {},
   "outputs": [
    {
     "data": {
      "text/plain": [
       "array([0, 1, 0, 3, 0, 5, 6, 7, 0, 0])"
      ]
     },
     "execution_count": 5,
     "metadata": {},
     "output_type": "execute_result"
    }
   ],
   "source": [
    "#we can use any operator such as subtarction or addition\n",
    "val[i] -=10\n",
    "val\n"
   ]
  },
  {
   "cell_type": "markdown",
   "metadata": {},
   "source": [
    "# SORTING ARRAYS "
   ]
  },
  {
   "cell_type": "code",
   "execution_count": 6,
   "metadata": {},
   "outputs": [
    {
     "data": {
      "text/plain": [
       "array([1, 2, 3, 4, 5])"
      ]
     },
     "execution_count": 6,
     "metadata": {},
     "output_type": "execute_result"
    }
   ],
   "source": [
    "#sorting using the bnormal python function\n",
    "x = np.array([2,1,4,3,5], dtype = int)\n",
    "x.sort()\n",
    "x"
   ]
  },
  {
   "cell_type": "code",
   "execution_count": 7,
   "metadata": {},
   "outputs": [
    {
     "data": {
      "text/plain": [
       "array([1, 2, 3, 4, 5])"
      ]
     },
     "execution_count": 7,
     "metadata": {},
     "output_type": "execute_result"
    }
   ],
   "source": [
    "#equivalent np fucntion for sorting is np.sort\n",
    "np.sort(x)"
   ]
  },
  {
   "cell_type": "code",
   "execution_count": 8,
   "metadata": {},
   "outputs": [
    {
     "name": "stdout",
     "output_type": "stream",
     "text": [
      "[1 0 3 2 4]\n"
     ]
    }
   ],
   "source": [
    "#np.argsort function return the indices(index) of the sorted elements \n",
    "f = np.array([2,1,4,3,5], dtype = int)\n",
    "i = np.argsort(f)\n",
    "print(i)"
   ]
  },
  {
   "cell_type": "code",
   "execution_count": 9,
   "metadata": {},
   "outputs": [
    {
     "data": {
      "text/plain": [
       "array([1, 2, 3, 4, 5])"
      ]
     },
     "execution_count": 9,
     "metadata": {},
     "output_type": "execute_result"
    }
   ],
   "source": [
    "#the indices can be use as fancy index to get the sorted array\n",
    "f[i]"
   ]
  },
  {
   "cell_type": "markdown",
   "metadata": {},
   "source": [
    "# SORTING ALONG ROW AND COLUMN"
   ]
  },
  {
   "cell_type": "code",
   "execution_count": 13,
   "metadata": {},
   "outputs": [
    {
     "data": {
      "text/plain": [
       "array([[6, 3, 7, 4, 6, 9],\n",
       "       [2, 6, 7, 4, 3, 7],\n",
       "       [7, 2, 5, 4, 1, 7],\n",
       "       [5, 1, 4, 0, 9, 5]])"
      ]
     },
     "execution_count": 13,
     "metadata": {},
     "output_type": "execute_result"
    }
   ],
   "source": [
    "rand  =np.random.RandomState(42)\n",
    "x = rand.randint(0,10, (4,6))\n",
    "x               "
   ]
  },
  {
   "cell_type": "code",
   "execution_count": 14,
   "metadata": {},
   "outputs": [
    {
     "data": {
      "text/plain": [
       "array([[2, 1, 4, 0, 1, 5],\n",
       "       [5, 2, 5, 4, 3, 7],\n",
       "       [6, 3, 7, 4, 6, 7],\n",
       "       [7, 6, 7, 4, 9, 9]])"
      ]
     },
     "execution_count": 14,
     "metadata": {},
     "output_type": "execute_result"
    }
   ],
   "source": [
    "#sort each column of x\n",
    "np.sort(x, axis  = 0)"
   ]
  },
  {
   "cell_type": "code",
   "execution_count": 15,
   "metadata": {},
   "outputs": [
    {
     "data": {
      "text/plain": [
       "array([[3, 4, 6, 6, 7, 9],\n",
       "       [2, 3, 4, 6, 7, 7],\n",
       "       [1, 2, 4, 5, 7, 7],\n",
       "       [0, 1, 4, 5, 5, 9]])"
      ]
     },
     "execution_count": 15,
     "metadata": {},
     "output_type": "execute_result"
    }
   ],
   "source": [
    "# sorting each row of x\n",
    "np.sort(x, axis = 1)"
   ]
  },
  {
   "cell_type": "markdown",
   "metadata": {},
   "source": [
    "# PARTIAL SORTS: PARTIONING"
   ]
  },
  {
   "cell_type": "code",
   "execution_count": 16,
   "metadata": {},
   "outputs": [
    {
     "data": {
      "text/plain": [
       "array([2, 1, 3, 4, 6, 5, 7])"
      ]
     },
     "execution_count": 16,
     "metadata": {},
     "output_type": "execute_result"
    }
   ],
   "source": [
    "y = np.array([7,2,3,1,6,5,4])\n",
    "np.partition(y,3)"
   ]
  },
  {
   "cell_type": "code",
   "execution_count": 17,
   "metadata": {},
   "outputs": [
    {
     "data": {
      "text/plain": [
       "array([[3, 4, 6, 7, 6, 9],\n",
       "       [2, 3, 4, 7, 6, 7],\n",
       "       [1, 2, 4, 5, 7, 7],\n",
       "       [0, 1, 4, 5, 9, 5]])"
      ]
     },
     "execution_count": 17,
     "metadata": {},
     "output_type": "execute_result"
    }
   ],
   "source": [
    "# give us the smallest posible of each row in the array\n",
    "np.partition(x,2,axis = 1)"
   ]
  },
  {
   "cell_type": "code",
   "execution_count": 18,
   "metadata": {},
   "outputs": [
    {
     "data": {
      "text/plain": [
       "['sunday', 'adeola', 'charse', 'promise', 'moses', 'thomson', 'nana', 'bosed']"
      ]
     },
     "execution_count": 18,
     "metadata": {},
     "output_type": "execute_result"
    }
   ],
   "source": [
    "#we can also partition on array of string\n",
    "name = ['sunday', 'adeola', 'charse', 'promise','moses', 'thomson', 'nana', 'bosed']\n",
    "name"
   ]
  },
  {
   "cell_type": "code",
   "execution_count": 19,
   "metadata": {},
   "outputs": [
    {
     "data": {
      "text/plain": [
       "array(['adeola', 'bosed', 'charse', 'moses', 'nana', 'promise', 'sunday',\n",
       "       'thomson'], dtype='<U7')"
      ]
     },
     "execution_count": 19,
     "metadata": {},
     "output_type": "execute_result"
    }
   ],
   "source": [
    "np.partition(name, 3)"
   ]
  },
  {
   "cell_type": "markdown",
   "metadata": {},
   "source": [
    "# NUMPYS STRUCTURED ARRAYS"
   ]
  },
  {
   "cell_type": "code",
   "execution_count": 20,
   "metadata": {
    "collapsed": true
   },
   "outputs": [],
   "source": [
    "npdata = [('sunday', 22,56,'js1'), ('charse', 34,67, 'ss2'), ('mary', 36,65,'ss3')]"
   ]
  },
  {
   "cell_type": "code",
   "execution_count": 21,
   "metadata": {
    "collapsed": true
   },
   "outputs": [],
   "source": [
    "npdtype = [('name', (np.str_, 10)), ('age', np.int16), ('score', np.float64), ('class', (np.str_,4))]"
   ]
  },
  {
   "cell_type": "code",
   "execution_count": 22,
   "metadata": {
    "collapsed": true
   },
   "outputs": [],
   "source": [
    "student_record = np.array([npdata], dtype = npdtype)"
   ]
  },
  {
   "cell_type": "code",
   "execution_count": 23,
   "metadata": {},
   "outputs": [
    {
     "name": "stdout",
     "output_type": "stream",
     "text": [
      "[[('sunday', 22, 56., 'js1') ('charse', 34, 67., 'ss2')\n",
      "  ('mary', 36, 65., 'ss3')]]\n"
     ]
    }
   ],
   "source": [
    "print(student_record)"
   ]
  },
  {
   "cell_type": "code",
   "execution_count": 24,
   "metadata": {},
   "outputs": [
    {
     "data": {
      "text/plain": [
       "array([['sunday', 'charse', 'mary']], dtype='<U10')"
      ]
     },
     "execution_count": 24,
     "metadata": {},
     "output_type": "execute_result"
    }
   ],
   "source": [
    "student_record['name']"
   ]
  },
  {
   "cell_type": "code",
   "execution_count": 26,
   "metadata": {},
   "outputs": [
    {
     "data": {
      "text/plain": [
       "array([[('sunday', 22, 56., 'js1'), ('charse', 34, 67., 'ss2'),\n",
       "        ('mary', 36, 65., 'ss3')]],\n",
       "      dtype=[('name', '<U10'), ('age', '<i2'), ('score', '<f8'), ('class', '<U4')])"
      ]
     },
     "execution_count": 26,
     "metadata": {},
     "output_type": "execute_result"
    }
   ],
   "source": [
    "student_record[:1]"
   ]
  },
  {
   "cell_type": "code",
   "execution_count": 27,
   "metadata": {},
   "outputs": [
    {
     "data": {
      "text/plain": [
       "array([[('charse', 34, 67., 'ss2'), ('mary', 36, 65., 'ss3'),\n",
       "        ('sunday', 22, 56., 'js1')]],\n",
       "      dtype=[('name', '<U10'), ('age', '<i2'), ('score', '<f8'), ('class', '<U4')])"
      ]
     },
     "execution_count": 27,
     "metadata": {},
     "output_type": "execute_result"
    }
   ],
   "source": [
    "np.sort(student_record, order = ('name', 'age'))"
   ]
  },
  {
   "cell_type": "code",
   "execution_count": null,
   "metadata": {
    "collapsed": true
   },
   "outputs": [],
   "source": []
  }
 ],
 "metadata": {
  "kernelspec": {
   "display_name": "Python 3 (ipykernel)",
   "language": "python",
   "name": "python3"
  },
  "language_info": {
   "codemirror_mode": {
    "name": "ipython",
    "version": 3
   },
   "file_extension": ".py",
   "mimetype": "text/x-python",
   "name": "python",
   "nbconvert_exporter": "python",
   "pygments_lexer": "ipython3",
   "version": "3.11.1"
  }
 },
 "nbformat": 4,
 "nbformat_minor": 2
}
